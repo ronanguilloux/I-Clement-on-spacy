{
 "cells": [
  {
   "cell_type": "markdown",
   "id": "6af87bb7-5611-405a-a180-239d82d5422f",
   "metadata": {},
   "source": [
    "# Using odyCy, spacy and displacy over *1 Clement* first words"
   ]
  },
  {
   "cell_type": "markdown",
   "id": "4aac1e9c-9076-44ee-bfb5-d18f1abdd9c2",
   "metadata": {},
   "source": [
    "[OdyCy](https://centre-for-humanities-computing.github.io/odyCy/) is a NLP library for Ancient Greek, capable of part-of-speech tagging, morphological analysis, dependency parsing, lemmatization and more.  It is based on the popular [spaCy](https://spacy.io/) framework, which makes odyCy easy to use, scalable, reliable and modular.\n",
    "\n",
    "A popular course on how to use spaCy is available here: https://course.spacy.io/en/\n",
    "\n",
    "Install odyCy from Huggingface Hub using `pip`\n",
    "\n",
    "```bash\n",
    "pip install https://huggingface.co/chcaa/grc_odycy_joint_trf/blob/main/grc_odycy_joint_trf-0.7.0-py3-none-any.whl\n",
    "```\n"
   ]
  },
  {
   "cell_type": "markdown",
   "id": "bb6dd290-fb3b-462e-856e-5a1626fa73af",
   "metadata": {},
   "source": [
    "## Starting\n",
    "We'll start by importing both `spacy`and `displacy`, which will help us visualize dependencies and entities in this notebook."
   ]
  },
  {
   "cell_type": "code",
   "execution_count": 1,
   "id": "5aef8c06-f4ea-4e61-968e-ad82621afc81",
   "metadata": {},
   "outputs": [],
   "source": [
    "import spacy\n",
    "from spacy import displacy"
   ]
  },
  {
   "cell_type": "markdown",
   "id": "4348455f-c803-45af-bf74-3670909c9ade",
   "metadata": {},
   "source": [
    "The file we use, located in the `data` folder, contains a short file with just the first two sentences of Clement of Rome's First Epistle to the Corinthians (*1 Clement*). The full Greek text is available in another file, but for this notebook, as we're only exploring Natural Processing Language techniques, the short file will speed up the processing. \n",
    "We'll create different documents of different sizes using a short extract or the full text of *1 Clement*: "
   ]
  },
  {
   "cell_type": "code",
   "execution_count": 2,
   "id": "b177cb33-90b5-4731-abb7-33ae62be00b6",
   "metadata": {},
   "outputs": [],
   "source": [
    "clement_source = 'data/clement-i-greek.txt'\n",
    "clement_file = open(clement_source, 'r')\n",
    "clement_text = clement_file.read()\n",
    "\n",
    "clement_source_short = 'data/clement-i-greek.short.txt'\n",
    "clement_file_short = open(clement_source_short, 'r')\n",
    "clement_text_short = clement_file_short.read()\n",
    "# print(text)"
   ]
  },
  {
   "cell_type": "markdown",
   "id": "30e37f60-d23e-4dbd-a47e-7acdeb6c2658",
   "metadata": {},
   "source": [
    "## Load and call Spacy pipelines"
   ]
  },
  {
   "cell_type": "markdown",
   "id": "d4ab8e58-41a9-4a5c-8004-31887ebbc5c7",
   "metadata": {},
   "source": [
    "From there, we create a `clement_doc` variable containing all the lemmatized lists of tokens from *1 Clement*, for full-text process, and a shorter version that we'll use for simpler tests a well. The time required to process the short source is fast: the NLP step takes a 3-4 seconds for that short extract."
   ]
  },
  {
   "cell_type": "code",
   "execution_count": 3,
   "id": "7396743b-bbf0-4833-9a4e-c54585057646",
   "metadata": {},
   "outputs": [],
   "source": [
    "nlp = spacy.load(\"grc_odycy_joint_trf\")\n",
    "clement_doc_short = nlp(clement_text_short) # Short extract (first sentence), takes 3 seconds to get processed"
   ]
  },
  {
   "cell_type": "markdown",
   "id": "54e6d340-5ac9-4676-ac55-eea21510d7f9",
   "metadata": {},
   "source": [
    "After tokenization, spaCy parse a given Doc to get each Part-of-speech (PoS), and tag them.\n",
    "Linguistic annotations are available as token attributes ([full list here](https://spacy.io/api/token#attributes)).\n",
    "The found token attributes vary according to each PoS tagging.\n",
    "\n",
    "Inflectional morphology is the process by which a root form of a word is modified by adding prefixes or suffixes that specify its grammatical function but do not change its part-of-speech. We say that a lemma (root form) is inflected (modified/combined) with one or more morphological features to create a surface form.\n",
    "\n",
    "Here are the found morphologies, just for the 3 first words, using the short extract (which is faster to process)"
   ]
  },
  {
   "cell_type": "code",
   "execution_count": 4,
   "id": "0284a57e-9767-4809-ad00-02cfb02c9e5c",
   "metadata": {},
   "outputs": [
    {
     "name": "stdout",
     "output_type": "stream",
     "text": [
      "Processing the first 3 words:\n",
      "\n",
      "INDEX 0 \t TEXT: Ἡ \t ORTH: Ἡ \t LEMMA: ὁ \n",
      " TAG: l-s---fn- \t DEP: det \t SHAPE: X \t IS_ALPHA: True \t IS_STOP: True \n",
      " POS: DET \t MORPH (full): Case=Nom|Gender=Fem|Number=Sing \n",
      " Case: ['Nom'] \t Gender: ['Fem'] \t Number: ['Sing'] \t HEAD: ἐκκλησία\n",
      "\n",
      "INDEX 1 \t TEXT: ἐκκλησία \t ORTH: ἐκκλησία \t LEMMA: ἐκκλησία \n",
      " TAG: n-s---fn- \t DEP: ROOT \t SHAPE: xxxx \t IS_ALPHA: True \t IS_STOP: False \n",
      " POS: NOUN \t MORPH (full): Case=Nom|Gender=Fem|Number=Sing \n",
      " Case: ['Nom'] \t Gender: ['Fem'] \t Number: ['Sing'] \t HEAD: ἐκκλησία\n",
      "\n",
      "INDEX 2 \t TEXT: τοῦ \t ORTH: τοῦ \t LEMMA: ὁ \n",
      " TAG: l-s---mg- \t DEP: det \t SHAPE: xxx \t IS_ALPHA: True \t IS_STOP: True \n",
      " POS: DET \t MORPH (full): Case=Gen|Definite=Def|Gender=Masc,Neut|Number=Sing|PronType=Dem \n",
      " Case: ['Gen'] \t Gender: ['Masc', 'Neut'] \t Number: ['Sing'] \t HEAD: θεοῦ\n"
     ]
    }
   ],
   "source": [
    "def parse(token):\n",
    "    print(\"\\nINDEX\", index, \"\\t\",\n",
    "        \"TEXT:\",token.text,\"\\t\",\n",
    "         \"ORTH:\",token.orth_,\"\\t\",\n",
    "         \"LEMMA:\",token.lemma_,\"\\n\",\n",
    "         \n",
    "         \"TAG:\",token.tag_,\"\\t\",\n",
    "         \"DEP:\",token.dep_,\"\\t\",\n",
    "         \"SHAPE:\",token.shape_,\"\\t\",\n",
    "         \"IS_ALPHA:\",token.is_alpha,\"\\t\",\n",
    "         \"IS_STOP:\",token.is_stop,\"\\n\",\n",
    "         \n",
    "         \"POS:\",token.pos_,\"\\t\",\n",
    "         \"MORPH (full):\",token.morph,\"\\n\",\n",
    "         \"Case:\",token.morph.get('Case'),\"\\t\",\n",
    "         \"Gender:\",token.morph.get('Gender'),\"\\t\",\n",
    "         \"Number:\",token.morph.get('Number'),\"\\t\",\n",
    "         \"HEAD:\",token.head)\n",
    "\n",
    "index = 0\n",
    "index_max = 2\n",
    "print(\"Processing the first 3 words:\")\n",
    "for token in clement_doc_short:\n",
    "   parse(token)\n",
    "   index+=1\n",
    "   if (index>index_max):\n",
    "    break\n"
   ]
  },
  {
   "cell_type": "markdown",
   "id": "64d87e8b-095f-452f-8238-b5f7b64e82e1",
   "metadata": {},
   "source": [
    "Look at the two first PoS above, \" Ἡ ἐκκλησία \":\n",
    "* the determiner (`DEP: det`) `Ἡ` (greek root or `LEMMA`: `ὁ`) is related (`HEAD`) to a noun, `ἐκκλησία`, both of them have a `FEM`-inine `Gender`.\n",
    "* that determiner is identified as a *stopword* (`IS_STOP: True`) ; stop words are commonly used in Text Mining and Natural Language Processing (NLP) to **eliminate** words that are so widely used that they carry very little useful information.\n",
    "* as expected, the ἐκκλησία noun isn't a *stopword* (`IS_STOP: False`)\n",
    "* as expected that determiner has the same case, gender and number as its related head, the ἐκκλησία noun."
   ]
  },
  {
   "cell_type": "markdown",
   "id": "5d4aac07-df88-4cdb-ab1f-046c1d2c4734",
   "metadata": {},
   "source": [
    "Verbs tagging provides even more information, such as the verb base or root, its tense, form, voice and the subject of that verb, called `HEAD`:"
   ]
  },
  {
   "cell_type": "code",
   "execution_count": 5,
   "id": "c092c040-9cf2-4aa8-9bee-3e0e7e95f7f1",
   "metadata": {},
   "outputs": [
    {
     "name": "stdout",
     "output_type": "stream",
     "text": [
      "\n",
      "INDEX 3 \t TEXT: παροικοῦσα \t ORTH: παροικοῦσα \t LEMMA: παροικέω \n",
      " TAG: v-sppafn- \t DEP: nmod \t SHAPE: xxxx \t IS_ALPHA: True \t IS_STOP: False \n",
      " POS: VERB \t MORPH (full): Case=Nom|Gender=Fem|Number=Sing|Tense=Pres|VerbForm=Part|Voice=Act \n",
      " Case: ['Nom'] \t Gender: ['Fem'] \t Number: ['Sing'] \t HEAD: ἐκκλησία\n"
     ]
    }
   ],
   "source": [
    "parse(clement_doc_short[5]) # the first verb of that sentence: παροικοῦσα"
   ]
  },
  {
   "cell_type": "markdown",
   "id": "4f4c17a3-497e-4e4f-9ee8-4cb96522605d",
   "metadata": {},
   "source": [
    "Spacy also provides a list of the found sentences, that we'll display, separated by commas:"
   ]
  },
  {
   "cell_type": "code",
   "execution_count": 6,
   "id": "a5f6186a-d331-46c4-a10f-c430419bb526",
   "metadata": {},
   "outputs": [
    {
     "name": "stdout",
     "output_type": "stream",
     "text": [
      "[Ἡ ἐκκλησία τοῦ θεοῦ ἡ παροικοῦσα ῾Ρώμην τῇ ἐκκλησίᾳ τοῦ θεοῦ τῇ παροικούσῃ Κόρινθον, κλητοῖς ἡγιασμένοις ἐν θελήματι θεοῦ διὰ τοῦ κυρίου ἡμῶν Ἰησοῦ Χριστοῦ., χάρις ὑμῖν καὶ εἰρήνη ἀπὸ παντοκράτορος θεοῦ διὰ Ἰησοῦ Χριστοῦ πληθυνθείη., \n",
      "\n",
      "I\n",
      "\n",
      "1. Διὰ τὰς αἰφνιδίους καὶ ἐπαλλήλους γενομένας ἡμῖν συμφορὰς καὶ περιπτώσεις, βράδιον νομίζομεν ἐπιστροφὴν πεποιῆσθαι περὶ τῶν ἐπιζητουμένων παρ’ ὑμῖν πραγμάτων, ἀγαπητοί, τῆς τε ἀλλοτρίας καὶ ξένης τοῖς ἐκλεκτοῖς τοῦ θεοῦ, μιαρᾶς καὶ ἀνοσίου στάσεως ἣν ὀλίγα πρόσωπα προπετῆ καὶ αὐθάδη ὑπάρχοντα εἰς τοσοῦτον ἀπονοίας ἐξέκαυσαν, ὥστε τὸ σεμνὸν καὶ περιβόητον καὶ πᾶσιν ἀνθρώποις ἀξιαγάπητον ὄνομα ὑμῶν μεγάλως βλασφημηθῆναι., 2., τίς γὰρ παρεπιδημήσας πρὸς ὑμᾶς τὴν πανάρετον καὶ βεβαίαν ὑμῶν πίστιν οὐκ ἐδοκίμασεν; τήν τε σώφρονα καὶ ἐπιεικῆ ἐν Χριστῷ εὐσέβειαν οὐκ ἐθαύμασεν; καὶ τὸ μεγαλοπρεπὲς τῆς φιλοξενίας ὑμῶν ἦθος οὐκ ἐκήρυξεν;, καὶ τὴν τελείαν καὶ ἀσφαλῆ γνῶσιν οὐκ ἐμακάρισεν; 3. ἀπροσωπολήμπτως γὰρ πάντα ἐποιεῖτε καὶ ἐν τοῖς νομίμοις τοῦ θεοῦ ἐπορεύσθε, ὑποτασσόμενοι τοῖς παρ’ ὑμῖν πρεσβυτέροις·, νέοις τε μέτρια καὶ σεμνὰ νοεῖν ἐπετρέπετε·, γυναιξίν τε ἐν ἀμώμῳ καὶ σεμνῇ καὶ ἁγνῇ συνειδήσει πάντα ἐπιτελεῖν παρηγγέλλετε, στεργούσας καθηκόντως τοὺς ἄνδρας ἑαυτῶν·, ἔν τε τῷ κανόνι τῆς ὑποταγῆς τὰ κατὰ τὸν οἶκον σεμνῶς οἰκουργεῖν ἐδιδάσκετε, πάνυ σωφρονούσας.]\n"
     ]
    }
   ],
   "source": [
    "sentence_spans = list(clement_doc_short.sents)\n",
    "print(sentence_spans)"
   ]
  },
  {
   "cell_type": "markdown",
   "id": "6cb19022-92fc-471f-bba7-26a3b058ad54",
   "metadata": {},
   "source": [
    "# Lemmatization used for counting the most frequent occurrences\n",
    "\n",
    "## Using the short extract first \n",
    "Lemmatization converts each word to its meaningful base form. \n",
    "\n",
    "In the following example, we'll use the short extract of *1 Clement*.\n",
    "\n",
    "As we list the found lemmas, we'll remove the ones that has no interest: the stopwords and the punctuation.\n",
    "We'll then count the number of occurrences for each lemma found, when this lemma is found more than 10 times in the text."
   ]
  },
  {
   "cell_type": "code",
   "execution_count": 7,
   "id": "c5bf32eb-4d29-4aaa-8a40-9eb20eb3ceb6",
   "metadata": {},
   "outputs": [
    {
     "name": "stdout",
     "output_type": "stream",
     "text": [
      "208 tokens in total, but only 113 are useful:\n",
      "\n",
      "6 occurrences:\n",
      "θεός\n",
      "\n",
      "4 occurrences:\n",
      "σεμνός\n",
      "\n",
      "3 occurrences:\n",
      "χριστός\n",
      "\n",
      "2 occurrences:\n",
      "παρά, ποιέω, πάντα, ἐκκλησία, ἰησοῦς\n"
     ]
    }
   ],
   "source": [
    "from collections import Counter, defaultdict\n",
    "\n",
    "lemmatizer = nlp.get_pipe(\"frequency_lemmatizer\")\n",
    "\n",
    "def display_occurrences(doc, limit):\n",
    "    filtered_lemmas = [token for token in doc if (token.pos_ != \"PUNCT\" and token.is_stop == False)]\n",
    "    lemmas = [token.lemma_ for token in filtered_lemmas]\n",
    "\n",
    "    # Count occurrences and group words by frequency\n",
    "    lemma_counts = Counter(lemmas)\n",
    "    count_to_words = defaultdict(list)\n",
    "\n",
    "    # Only consider words occurring more than [limit]\n",
    "    for word, count in lemma_counts.items():\n",
    "        if count > limit:  \n",
    "            count_to_words[count].append(word)\n",
    "\n",
    "    # Sort by frequency (descending) and alphabetically within the same counts\n",
    "    sorted_counts = sorted(count_to_words.items(), key=lambda x: (-x[0], x[1]))\n",
    "    \n",
    "    # Display results\n",
    "    print(len(doc), \"tokens in total, but only\", len(filtered_lemmas), \"are useful:\")\n",
    "    for count, words in sorted_counts:\n",
    "        sorted_words = sorted(words)\n",
    "        print(f\"\\n{count} occurrence{'s' if count > 1 else ''}:\")\n",
    "        print(\", \".join(sorted_words))\n",
    "\n",
    "display_occurrences(clement_doc_short, 1)"
   ]
  },
  {
   "cell_type": "markdown",
   "id": "97ee7ef7-9250-4699-a8c6-55caf9ad33d0",
   "metadata": {},
   "source": [
    "# Lemmatization over the full text of *1 Clement*\n",
    "\n",
    "Now let's do the same, counting the most frequent occurrences on the full document of *1 Clement*, considering only lemmas that appear more than 20 times.\n",
    "\n",
    "Mind the time required to process the full source: this NLP step takes around 30 seconds, when run locally on a MacBook (check the grey dot on the right side of the header of this Jupyter notebook - turns back to white when finished)."
   ]
  },
  {
   "cell_type": "code",
   "execution_count": 8,
   "id": "26cad855-d7de-4302-ad83-f69a1b24033e",
   "metadata": {},
   "outputs": [
    {
     "name": "stdout",
     "output_type": "stream",
     "text": [
      "11408 tokens in total, but only 5318 are useful:\n",
      "\n",
      "91 occurrences:\n",
      "θεός\n",
      "\n",
      "40 occurrences:\n",
      "χριστός\n",
      "\n",
      "33 occurrences:\n",
      "πᾶς, τίς\n",
      "\n",
      "32 occurrences:\n",
      "κύριος\n",
      "\n",
      "28 occurrences:\n",
      "γῆ, πάντα\n",
      "\n",
      "26 occurrences:\n",
      "ἰησοῦς\n",
      "\n",
      "25 occurrences:\n",
      "διά\n",
      "\n",
      "24 occurrences:\n",
      "ἀγάπη\n",
      "\n",
      "23 occurrences:\n",
      "ποιέω, πολύς\n",
      "\n",
      "22 occurrences:\n",
      "δόξα\n",
      "\n",
      "21 occurrences:\n",
      "λέγω\n"
     ]
    }
   ],
   "source": [
    "clement_doc = nlp(clement_text) # Full version, takes 30 seconds to get processed\n",
    "display_occurrences(clement_doc, 20)"
   ]
  },
  {
   "cell_type": "markdown",
   "id": "4d752ae3-123d-4523-8fa5-a3d7ec961ab7",
   "metadata": {},
   "source": [
    "# Explicit citations of the Gospels in *1 Clement*\n",
    "\n",
    "To find explicit citations of the Gospels in the text of Clement I using your Greek texts, we'll combine computational text analysis with philological methods. Here’s how:\n",
    "\n",
    "- We'll use the Greek text of both *1 Clement* and the four Gospels\n",
    "- For consistency, we'll tokenize and lemmatize all texts using the same pipeline, `spaCy`, with the same `grc_odycy_joint_trf` Greek model and lemmatizer we've used so far.\n",
    "\n",
    "## Identify Candidate Gospel Citations\n",
    "\n",
    "We're looking for:\n",
    "- Direct Quotations: Look for passages in 1 Clement that closely match phrases or sentences in the Gospels. Some well-known examples include 1 Clem. 13:2 and 46:8, which are often discussed as possible citations or allusions to the Synoptics.\n",
    "- Composite or Paraphrased Citations: Note that Clement often paraphrases or combines Gospel sayings, so look for partial matches or rewordings.\n",
    "\n",
    "## Confirming previous studies\n",
    "\n",
    "The findings should at least confirm the findings from previous studies or opinions expressed by various authors such as \n",
    "- Donald Alfred Hagner in his [chapter 8 of *The Use of the Old and New Testaments in Clement of Rome*, pages 272–312](https://brill.com/display/book/9789004266162/B9789004266162-s010.xml)\n",
    "- Jacob J. Prahlow [in this blogpost on Scripture citations in *1 Clement*](https://pursuingveritas.com/2016/09/26/scripture-in-1-clement-composite-citation-of-the-gospels-part-i/)\n",
    "- Glenn Miller [in this blogpost on *1 Clement* gospels citations](https://www.christian-thinktank.com/dumbdad2.html)\n",
    "\n",
    "## Automated Search Strategies\n",
    "\n",
    "- N-gram Matching: Generate n-grams (e.g., 5-10 words) from both 1 Clement and each Gospel. Use fuzzy matching (e.g., Levenshtein distance or cosine similarity on lemmatized n-grams) to find overlapping sequences.\n",
    "- Lemmatized Comparison: Compare lemmatized versions to account for inflectional differences in Greek.\n",
    "- Thresholds: Set similarity thresholds to reduce false positives but still catch paraphrases.\n",
    "\n",
    "## Manual Review and Contextual Analysis\n",
    "\n",
    "From there, we could review all high-similarity matches manually, since Clement often adapts or combines sayings, and context is crucial for determining if a passage is a true citation or an allusion. Additionally, there's value in checking for *introductory formulas* (e.g., “the Lord said,” “He himself said,” “as it is written”) which may indicate a citation in *1 Clement*.\n",
    "\n",
    "## Document and Categorize Results\n",
    "\n",
    "For each match, we could record\n",
    "\n",
    "- The passage in Clement and the Gospel(s)\n",
    "- The Greek text of both\n",
    "- The degree of similarity (verbatim, paraphrase, composite)\n",
    "- Whether an introductory formula is present\n",
    "\n",
    "## A first approach\n",
    "\n",
    "We have lemmatized_clement and lemmatized_gospels as lists of tokens. Adjust `n` and `threshold` in the code below to choose sensitivity\n"
   ]
  },
  {
   "cell_type": "code",
   "execution_count": 9,
   "id": "3ab8d370-15a0-41e6-a0b0-63eca751fff2",
   "metadata": {},
   "outputs": [],
   "source": [
    "from difflib import SequenceMatcher\n",
    "\n",
    "def find_matches(clement, gospel, n=7, threshold=0.8):\n",
    "    matches = []\n",
    "    '''\n",
    "    if ratio > threshold:\n",
    "        matches.append({\n",
    "            \"gospel\": gospel_name,\n",
    "            \"gospel_ngram\": gospel_ngram,\n",
    "            \"clement_ngram\": clement_ngram,\n",
    "            \"similarity\": ratio\n",
    "        })\n",
    "    '''\n",
    "    return matches"
   ]
  },
  {
   "cell_type": "markdown",
   "id": "90ed785e-4018-44b8-b001-25f0502403f3",
   "metadata": {},
   "source": [
    "# Noun chunks\n",
    "\n",
    "Noun chunks are “base noun phrases” – flat phrases that have a noun as their head. You can think of noun chunks as a noun plus the words describing the noun"
   ]
  },
  {
   "cell_type": "code",
   "execution_count": 10,
   "id": "f70a8e8a-0f67-4a91-b0b2-0b5c7ede474f",
   "metadata": {},
   "outputs": [
    {
     "name": "stdout",
     "output_type": "stream",
     "text": [
      "τοῦ det θεοῦ NOUN []\n"
     ]
    }
   ],
   "source": [
    "def nounize(token):\n",
    "    print(token.text, token.dep_, token.head.text, token.head.pos_, [child for child in token.children])\n",
    "nounize(clement_doc_short[2])"
   ]
  },
  {
   "cell_type": "markdown",
   "id": "33d8304a-e0e7-4bd1-af8c-175632ae0348",
   "metadata": {},
   "source": [
    "τοῦ is a determiner, and gets related to a 'head' word, θεοῦ, which is identified as a noun.\n",
    "\n",
    "# Visualization\n",
    "\n",
    "Using spaCy’s built-in displaCy [visualizer](https://spacy.io/usage/visualizers),\n",
    "here’s what our first sentence and its dependencies look like:"
   ]
  },
  {
   "cell_type": "code",
   "execution_count": 11,
   "id": "b045b194-94a0-4c70-9da2-50444f89f1f6",
   "metadata": {
    "scrolled": true
   },
   "outputs": [
    {
     "data": {
      "text/html": [
       "<span class=\"tex2jax_ignore\"><!DOCTYPE html>\n",
       "<html lang=\"grc\">\n",
       "    <head>\n",
       "        <title>displaCy</title>\n",
       "    </head>\n",
       "\n",
       "    <body style=\"font-size: 16px; font-family: -apple-system, BlinkMacSystemFont, 'Segoe UI', Helvetica, Arial, sans-serif, 'Apple Color Emoji', 'Segoe UI Emoji', 'Segoe UI Symbol'; padding: 4rem 2rem; direction: ltr\">\n",
       "<figure style=\"margin-bottom: 6rem\">\n",
       "<svg xmlns=\"http://www.w3.org/2000/svg\" xmlns:xlink=\"http://www.w3.org/1999/xlink\" xml:lang=\"grc\" id=\"9df889caa64946fdbab89666880dc940-0\" class=\"displacy\" width=\"4425\" height=\"574.5\" direction=\"ltr\" style=\"max-width: none; height: 574.5px; color: #000000; background: #ffffff; font-family: Arial; direction: ltr\">\n",
       "<text class=\"displacy-token\" fill=\"currentColor\" text-anchor=\"middle\" y=\"484.5\">\n",
       "    <tspan class=\"displacy-word\" fill=\"currentColor\" x=\"50\">Ἡ</tspan>\n",
       "    <tspan class=\"displacy-tag\" dy=\"2em\" fill=\"currentColor\" x=\"50\">DET</tspan>\n",
       "</text>\n",
       "\n",
       "<text class=\"displacy-token\" fill=\"currentColor\" text-anchor=\"middle\" y=\"484.5\">\n",
       "    <tspan class=\"displacy-word\" fill=\"currentColor\" x=\"225\">ἐκκλησία</tspan>\n",
       "    <tspan class=\"displacy-tag\" dy=\"2em\" fill=\"currentColor\" x=\"225\">NOUN</tspan>\n",
       "</text>\n",
       "\n",
       "<text class=\"displacy-token\" fill=\"currentColor\" text-anchor=\"middle\" y=\"484.5\">\n",
       "    <tspan class=\"displacy-word\" fill=\"currentColor\" x=\"400\">τοῦ</tspan>\n",
       "    <tspan class=\"displacy-tag\" dy=\"2em\" fill=\"currentColor\" x=\"400\">DET</tspan>\n",
       "</text>\n",
       "\n",
       "<text class=\"displacy-token\" fill=\"currentColor\" text-anchor=\"middle\" y=\"484.5\">\n",
       "    <tspan class=\"displacy-word\" fill=\"currentColor\" x=\"575\">θεοῦ</tspan>\n",
       "    <tspan class=\"displacy-tag\" dy=\"2em\" fill=\"currentColor\" x=\"575\">NOUN</tspan>\n",
       "</text>\n",
       "\n",
       "<text class=\"displacy-token\" fill=\"currentColor\" text-anchor=\"middle\" y=\"484.5\">\n",
       "    <tspan class=\"displacy-word\" fill=\"currentColor\" x=\"750\">ἡ</tspan>\n",
       "    <tspan class=\"displacy-tag\" dy=\"2em\" fill=\"currentColor\" x=\"750\">DET</tspan>\n",
       "</text>\n",
       "\n",
       "<text class=\"displacy-token\" fill=\"currentColor\" text-anchor=\"middle\" y=\"484.5\">\n",
       "    <tspan class=\"displacy-word\" fill=\"currentColor\" x=\"925\">παροικοῦσα</tspan>\n",
       "    <tspan class=\"displacy-tag\" dy=\"2em\" fill=\"currentColor\" x=\"925\">VERB</tspan>\n",
       "</text>\n",
       "\n",
       "<text class=\"displacy-token\" fill=\"currentColor\" text-anchor=\"middle\" y=\"484.5\">\n",
       "    <tspan class=\"displacy-word\" fill=\"currentColor\" x=\"1100\">῾Ρώμην</tspan>\n",
       "    <tspan class=\"displacy-tag\" dy=\"2em\" fill=\"currentColor\" x=\"1100\">ADP</tspan>\n",
       "</text>\n",
       "\n",
       "<text class=\"displacy-token\" fill=\"currentColor\" text-anchor=\"middle\" y=\"484.5\">\n",
       "    <tspan class=\"displacy-word\" fill=\"currentColor\" x=\"1275\">τῇ</tspan>\n",
       "    <tspan class=\"displacy-tag\" dy=\"2em\" fill=\"currentColor\" x=\"1275\">DET</tspan>\n",
       "</text>\n",
       "\n",
       "<text class=\"displacy-token\" fill=\"currentColor\" text-anchor=\"middle\" y=\"484.5\">\n",
       "    <tspan class=\"displacy-word\" fill=\"currentColor\" x=\"1450\">ἐκκλησίᾳ</tspan>\n",
       "    <tspan class=\"displacy-tag\" dy=\"2em\" fill=\"currentColor\" x=\"1450\">NOUN</tspan>\n",
       "</text>\n",
       "\n",
       "<text class=\"displacy-token\" fill=\"currentColor\" text-anchor=\"middle\" y=\"484.5\">\n",
       "    <tspan class=\"displacy-word\" fill=\"currentColor\" x=\"1625\">τοῦ</tspan>\n",
       "    <tspan class=\"displacy-tag\" dy=\"2em\" fill=\"currentColor\" x=\"1625\">DET</tspan>\n",
       "</text>\n",
       "\n",
       "<text class=\"displacy-token\" fill=\"currentColor\" text-anchor=\"middle\" y=\"484.5\">\n",
       "    <tspan class=\"displacy-word\" fill=\"currentColor\" x=\"1800\">θεοῦ</tspan>\n",
       "    <tspan class=\"displacy-tag\" dy=\"2em\" fill=\"currentColor\" x=\"1800\">NOUN</tspan>\n",
       "</text>\n",
       "\n",
       "<text class=\"displacy-token\" fill=\"currentColor\" text-anchor=\"middle\" y=\"484.5\">\n",
       "    <tspan class=\"displacy-word\" fill=\"currentColor\" x=\"1975\">τῇ</tspan>\n",
       "    <tspan class=\"displacy-tag\" dy=\"2em\" fill=\"currentColor\" x=\"1975\">DET</tspan>\n",
       "</text>\n",
       "\n",
       "<text class=\"displacy-token\" fill=\"currentColor\" text-anchor=\"middle\" y=\"484.5\">\n",
       "    <tspan class=\"displacy-word\" fill=\"currentColor\" x=\"2150\">παροικούσῃ</tspan>\n",
       "    <tspan class=\"displacy-tag\" dy=\"2em\" fill=\"currentColor\" x=\"2150\">VERB</tspan>\n",
       "</text>\n",
       "\n",
       "<text class=\"displacy-token\" fill=\"currentColor\" text-anchor=\"middle\" y=\"484.5\">\n",
       "    <tspan class=\"displacy-word\" fill=\"currentColor\" x=\"2325\">Κόρινθον,</tspan>\n",
       "    <tspan class=\"displacy-tag\" dy=\"2em\" fill=\"currentColor\" x=\"2325\">NOUN</tspan>\n",
       "</text>\n",
       "\n",
       "<text class=\"displacy-token\" fill=\"currentColor\" text-anchor=\"middle\" y=\"484.5\">\n",
       "    <tspan class=\"displacy-word\" fill=\"currentColor\" x=\"2500\">κλητοῖς</tspan>\n",
       "    <tspan class=\"displacy-tag\" dy=\"2em\" fill=\"currentColor\" x=\"2500\">ADJ</tspan>\n",
       "</text>\n",
       "\n",
       "<text class=\"displacy-token\" fill=\"currentColor\" text-anchor=\"middle\" y=\"484.5\">\n",
       "    <tspan class=\"displacy-word\" fill=\"currentColor\" x=\"2675\">ἡγιασμένοις</tspan>\n",
       "    <tspan class=\"displacy-tag\" dy=\"2em\" fill=\"currentColor\" x=\"2675\">VERB</tspan>\n",
       "</text>\n",
       "\n",
       "<text class=\"displacy-token\" fill=\"currentColor\" text-anchor=\"middle\" y=\"484.5\">\n",
       "    <tspan class=\"displacy-word\" fill=\"currentColor\" x=\"2850\">ἐν</tspan>\n",
       "    <tspan class=\"displacy-tag\" dy=\"2em\" fill=\"currentColor\" x=\"2850\">ADP</tspan>\n",
       "</text>\n",
       "\n",
       "<text class=\"displacy-token\" fill=\"currentColor\" text-anchor=\"middle\" y=\"484.5\">\n",
       "    <tspan class=\"displacy-word\" fill=\"currentColor\" x=\"3025\">θελήματι</tspan>\n",
       "    <tspan class=\"displacy-tag\" dy=\"2em\" fill=\"currentColor\" x=\"3025\">NOUN</tspan>\n",
       "</text>\n",
       "\n",
       "<text class=\"displacy-token\" fill=\"currentColor\" text-anchor=\"middle\" y=\"484.5\">\n",
       "    <tspan class=\"displacy-word\" fill=\"currentColor\" x=\"3200\">θεοῦ</tspan>\n",
       "    <tspan class=\"displacy-tag\" dy=\"2em\" fill=\"currentColor\" x=\"3200\">NOUN</tspan>\n",
       "</text>\n",
       "\n",
       "<text class=\"displacy-token\" fill=\"currentColor\" text-anchor=\"middle\" y=\"484.5\">\n",
       "    <tspan class=\"displacy-word\" fill=\"currentColor\" x=\"3375\">διὰ</tspan>\n",
       "    <tspan class=\"displacy-tag\" dy=\"2em\" fill=\"currentColor\" x=\"3375\">ADP</tspan>\n",
       "</text>\n",
       "\n",
       "<text class=\"displacy-token\" fill=\"currentColor\" text-anchor=\"middle\" y=\"484.5\">\n",
       "    <tspan class=\"displacy-word\" fill=\"currentColor\" x=\"3550\">τοῦ</tspan>\n",
       "    <tspan class=\"displacy-tag\" dy=\"2em\" fill=\"currentColor\" x=\"3550\">DET</tspan>\n",
       "</text>\n",
       "\n",
       "<text class=\"displacy-token\" fill=\"currentColor\" text-anchor=\"middle\" y=\"484.5\">\n",
       "    <tspan class=\"displacy-word\" fill=\"currentColor\" x=\"3725\">κυρίου</tspan>\n",
       "    <tspan class=\"displacy-tag\" dy=\"2em\" fill=\"currentColor\" x=\"3725\">NOUN</tspan>\n",
       "</text>\n",
       "\n",
       "<text class=\"displacy-token\" fill=\"currentColor\" text-anchor=\"middle\" y=\"484.5\">\n",
       "    <tspan class=\"displacy-word\" fill=\"currentColor\" x=\"3900\">ἡμῶν</tspan>\n",
       "    <tspan class=\"displacy-tag\" dy=\"2em\" fill=\"currentColor\" x=\"3900\">PRON</tspan>\n",
       "</text>\n",
       "\n",
       "<text class=\"displacy-token\" fill=\"currentColor\" text-anchor=\"middle\" y=\"484.5\">\n",
       "    <tspan class=\"displacy-word\" fill=\"currentColor\" x=\"4075\">Ἰησοῦ</tspan>\n",
       "    <tspan class=\"displacy-tag\" dy=\"2em\" fill=\"currentColor\" x=\"4075\">PROPN</tspan>\n",
       "</text>\n",
       "\n",
       "<text class=\"displacy-token\" fill=\"currentColor\" text-anchor=\"middle\" y=\"484.5\">\n",
       "    <tspan class=\"displacy-word\" fill=\"currentColor\" x=\"4250\">Χριστοῦ.</tspan>\n",
       "    <tspan class=\"displacy-tag\" dy=\"2em\" fill=\"currentColor\" x=\"4250\">PROPN</tspan>\n",
       "</text>\n",
       "\n",
       "<g class=\"displacy-arrow\">\n",
       "    <path class=\"displacy-arc\" id=\"arrow-9df889caa64946fdbab89666880dc940-0-0\" stroke-width=\"2px\" d=\"M70,439.5 C70,352.0 205.0,352.0 205.0,439.5\" fill=\"none\" stroke=\"currentColor\"/>\n",
       "    <text dy=\"1.25em\" style=\"font-size: 0.8em; letter-spacing: 1px\">\n",
       "        <textPath xlink:href=\"#arrow-9df889caa64946fdbab89666880dc940-0-0\" class=\"displacy-label\" startOffset=\"50%\" side=\"left\" fill=\"currentColor\" text-anchor=\"middle\">det</textPath>\n",
       "    </text>\n",
       "    <path class=\"displacy-arrowhead\" d=\"M70,441.5 L62,429.5 78,429.5\" fill=\"currentColor\"/>\n",
       "</g>\n",
       "\n",
       "<g class=\"displacy-arrow\">\n",
       "    <path class=\"displacy-arc\" id=\"arrow-9df889caa64946fdbab89666880dc940-0-1\" stroke-width=\"2px\" d=\"M420,439.5 C420,352.0 555.0,352.0 555.0,439.5\" fill=\"none\" stroke=\"currentColor\"/>\n",
       "    <text dy=\"1.25em\" style=\"font-size: 0.8em; letter-spacing: 1px\">\n",
       "        <textPath xlink:href=\"#arrow-9df889caa64946fdbab89666880dc940-0-1\" class=\"displacy-label\" startOffset=\"50%\" side=\"left\" fill=\"currentColor\" text-anchor=\"middle\">det</textPath>\n",
       "    </text>\n",
       "    <path class=\"displacy-arrowhead\" d=\"M420,441.5 L412,429.5 428,429.5\" fill=\"currentColor\"/>\n",
       "</g>\n",
       "\n",
       "<g class=\"displacy-arrow\">\n",
       "    <path class=\"displacy-arc\" id=\"arrow-9df889caa64946fdbab89666880dc940-0-2\" stroke-width=\"2px\" d=\"M245,439.5 C245,264.5 560.0,264.5 560.0,439.5\" fill=\"none\" stroke=\"currentColor\"/>\n",
       "    <text dy=\"1.25em\" style=\"font-size: 0.8em; letter-spacing: 1px\">\n",
       "        <textPath xlink:href=\"#arrow-9df889caa64946fdbab89666880dc940-0-2\" class=\"displacy-label\" startOffset=\"50%\" side=\"left\" fill=\"currentColor\" text-anchor=\"middle\">nmod</textPath>\n",
       "    </text>\n",
       "    <path class=\"displacy-arrowhead\" d=\"M560.0,441.5 L568.0,429.5 552.0,429.5\" fill=\"currentColor\"/>\n",
       "</g>\n",
       "\n",
       "<g class=\"displacy-arrow\">\n",
       "    <path class=\"displacy-arc\" id=\"arrow-9df889caa64946fdbab89666880dc940-0-3\" stroke-width=\"2px\" d=\"M770,439.5 C770,352.0 905.0,352.0 905.0,439.5\" fill=\"none\" stroke=\"currentColor\"/>\n",
       "    <text dy=\"1.25em\" style=\"font-size: 0.8em; letter-spacing: 1px\">\n",
       "        <textPath xlink:href=\"#arrow-9df889caa64946fdbab89666880dc940-0-3\" class=\"displacy-label\" startOffset=\"50%\" side=\"left\" fill=\"currentColor\" text-anchor=\"middle\">det</textPath>\n",
       "    </text>\n",
       "    <path class=\"displacy-arrowhead\" d=\"M770,441.5 L762,429.5 778,429.5\" fill=\"currentColor\"/>\n",
       "</g>\n",
       "\n",
       "<g class=\"displacy-arrow\">\n",
       "    <path class=\"displacy-arc\" id=\"arrow-9df889caa64946fdbab89666880dc940-0-4\" stroke-width=\"2px\" d=\"M245,439.5 C245,177.0 915.0,177.0 915.0,439.5\" fill=\"none\" stroke=\"currentColor\"/>\n",
       "    <text dy=\"1.25em\" style=\"font-size: 0.8em; letter-spacing: 1px\">\n",
       "        <textPath xlink:href=\"#arrow-9df889caa64946fdbab89666880dc940-0-4\" class=\"displacy-label\" startOffset=\"50%\" side=\"left\" fill=\"currentColor\" text-anchor=\"middle\">nmod</textPath>\n",
       "    </text>\n",
       "    <path class=\"displacy-arrowhead\" d=\"M915.0,441.5 L923.0,429.5 907.0,429.5\" fill=\"currentColor\"/>\n",
       "</g>\n",
       "\n",
       "<g class=\"displacy-arrow\">\n",
       "    <path class=\"displacy-arc\" id=\"arrow-9df889caa64946fdbab89666880dc940-0-5\" stroke-width=\"2px\" d=\"M1120,439.5 C1120,264.5 1435.0,264.5 1435.0,439.5\" fill=\"none\" stroke=\"currentColor\"/>\n",
       "    <text dy=\"1.25em\" style=\"font-size: 0.8em; letter-spacing: 1px\">\n",
       "        <textPath xlink:href=\"#arrow-9df889caa64946fdbab89666880dc940-0-5\" class=\"displacy-label\" startOffset=\"50%\" side=\"left\" fill=\"currentColor\" text-anchor=\"middle\">case</textPath>\n",
       "    </text>\n",
       "    <path class=\"displacy-arrowhead\" d=\"M1120,441.5 L1112,429.5 1128,429.5\" fill=\"currentColor\"/>\n",
       "</g>\n",
       "\n",
       "<g class=\"displacy-arrow\">\n",
       "    <path class=\"displacy-arc\" id=\"arrow-9df889caa64946fdbab89666880dc940-0-6\" stroke-width=\"2px\" d=\"M1295,439.5 C1295,352.0 1430.0,352.0 1430.0,439.5\" fill=\"none\" stroke=\"currentColor\"/>\n",
       "    <text dy=\"1.25em\" style=\"font-size: 0.8em; letter-spacing: 1px\">\n",
       "        <textPath xlink:href=\"#arrow-9df889caa64946fdbab89666880dc940-0-6\" class=\"displacy-label\" startOffset=\"50%\" side=\"left\" fill=\"currentColor\" text-anchor=\"middle\">det</textPath>\n",
       "    </text>\n",
       "    <path class=\"displacy-arrowhead\" d=\"M1295,441.5 L1287,429.5 1303,429.5\" fill=\"currentColor\"/>\n",
       "</g>\n",
       "\n",
       "<g class=\"displacy-arrow\">\n",
       "    <path class=\"displacy-arc\" id=\"arrow-9df889caa64946fdbab89666880dc940-0-7\" stroke-width=\"2px\" d=\"M245,439.5 C245,89.5 1445.0,89.5 1445.0,439.5\" fill=\"none\" stroke=\"currentColor\"/>\n",
       "    <text dy=\"1.25em\" style=\"font-size: 0.8em; letter-spacing: 1px\">\n",
       "        <textPath xlink:href=\"#arrow-9df889caa64946fdbab89666880dc940-0-7\" class=\"displacy-label\" startOffset=\"50%\" side=\"left\" fill=\"currentColor\" text-anchor=\"middle\">nmod</textPath>\n",
       "    </text>\n",
       "    <path class=\"displacy-arrowhead\" d=\"M1445.0,441.5 L1453.0,429.5 1437.0,429.5\" fill=\"currentColor\"/>\n",
       "</g>\n",
       "\n",
       "<g class=\"displacy-arrow\">\n",
       "    <path class=\"displacy-arc\" id=\"arrow-9df889caa64946fdbab89666880dc940-0-8\" stroke-width=\"2px\" d=\"M1645,439.5 C1645,352.0 1780.0,352.0 1780.0,439.5\" fill=\"none\" stroke=\"currentColor\"/>\n",
       "    <text dy=\"1.25em\" style=\"font-size: 0.8em; letter-spacing: 1px\">\n",
       "        <textPath xlink:href=\"#arrow-9df889caa64946fdbab89666880dc940-0-8\" class=\"displacy-label\" startOffset=\"50%\" side=\"left\" fill=\"currentColor\" text-anchor=\"middle\">det</textPath>\n",
       "    </text>\n",
       "    <path class=\"displacy-arrowhead\" d=\"M1645,441.5 L1637,429.5 1653,429.5\" fill=\"currentColor\"/>\n",
       "</g>\n",
       "\n",
       "<g class=\"displacy-arrow\">\n",
       "    <path class=\"displacy-arc\" id=\"arrow-9df889caa64946fdbab89666880dc940-0-9\" stroke-width=\"2px\" d=\"M1470,439.5 C1470,264.5 1785.0,264.5 1785.0,439.5\" fill=\"none\" stroke=\"currentColor\"/>\n",
       "    <text dy=\"1.25em\" style=\"font-size: 0.8em; letter-spacing: 1px\">\n",
       "        <textPath xlink:href=\"#arrow-9df889caa64946fdbab89666880dc940-0-9\" class=\"displacy-label\" startOffset=\"50%\" side=\"left\" fill=\"currentColor\" text-anchor=\"middle\">nmod</textPath>\n",
       "    </text>\n",
       "    <path class=\"displacy-arrowhead\" d=\"M1785.0,441.5 L1793.0,429.5 1777.0,429.5\" fill=\"currentColor\"/>\n",
       "</g>\n",
       "\n",
       "<g class=\"displacy-arrow\">\n",
       "    <path class=\"displacy-arc\" id=\"arrow-9df889caa64946fdbab89666880dc940-0-10\" stroke-width=\"2px\" d=\"M1995,439.5 C1995,352.0 2130.0,352.0 2130.0,439.5\" fill=\"none\" stroke=\"currentColor\"/>\n",
       "    <text dy=\"1.25em\" style=\"font-size: 0.8em; letter-spacing: 1px\">\n",
       "        <textPath xlink:href=\"#arrow-9df889caa64946fdbab89666880dc940-0-10\" class=\"displacy-label\" startOffset=\"50%\" side=\"left\" fill=\"currentColor\" text-anchor=\"middle\">det</textPath>\n",
       "    </text>\n",
       "    <path class=\"displacy-arrowhead\" d=\"M1995,441.5 L1987,429.5 2003,429.5\" fill=\"currentColor\"/>\n",
       "</g>\n",
       "\n",
       "<g class=\"displacy-arrow\">\n",
       "    <path class=\"displacy-arc\" id=\"arrow-9df889caa64946fdbab89666880dc940-0-11\" stroke-width=\"2px\" d=\"M1470,439.5 C1470,177.0 2140.0,177.0 2140.0,439.5\" fill=\"none\" stroke=\"currentColor\"/>\n",
       "    <text dy=\"1.25em\" style=\"font-size: 0.8em; letter-spacing: 1px\">\n",
       "        <textPath xlink:href=\"#arrow-9df889caa64946fdbab89666880dc940-0-11\" class=\"displacy-label\" startOffset=\"50%\" side=\"left\" fill=\"currentColor\" text-anchor=\"middle\">nmod</textPath>\n",
       "    </text>\n",
       "    <path class=\"displacy-arrowhead\" d=\"M2140.0,441.5 L2148.0,429.5 2132.0,429.5\" fill=\"currentColor\"/>\n",
       "</g>\n",
       "\n",
       "<g class=\"displacy-arrow\">\n",
       "    <path class=\"displacy-arc\" id=\"arrow-9df889caa64946fdbab89666880dc940-0-12\" stroke-width=\"2px\" d=\"M2170,439.5 C2170,352.0 2305.0,352.0 2305.0,439.5\" fill=\"none\" stroke=\"currentColor\"/>\n",
       "    <text dy=\"1.25em\" style=\"font-size: 0.8em; letter-spacing: 1px\">\n",
       "        <textPath xlink:href=\"#arrow-9df889caa64946fdbab89666880dc940-0-12\" class=\"displacy-label\" startOffset=\"50%\" side=\"left\" fill=\"currentColor\" text-anchor=\"middle\">obj</textPath>\n",
       "    </text>\n",
       "    <path class=\"displacy-arrowhead\" d=\"M2305.0,441.5 L2313.0,429.5 2297.0,429.5\" fill=\"currentColor\"/>\n",
       "</g>\n",
       "\n",
       "<g class=\"displacy-arrow\">\n",
       "    <path class=\"displacy-arc\" id=\"arrow-9df889caa64946fdbab89666880dc940-0-13\" stroke-width=\"2px\" d=\"M2520,439.5 C2520,352.0 2655.0,352.0 2655.0,439.5\" fill=\"none\" stroke=\"currentColor\"/>\n",
       "    <text dy=\"1.25em\" style=\"font-size: 0.8em; letter-spacing: 1px\">\n",
       "        <textPath xlink:href=\"#arrow-9df889caa64946fdbab89666880dc940-0-13\" class=\"displacy-label\" startOffset=\"50%\" side=\"left\" fill=\"currentColor\" text-anchor=\"middle\">xcomp</textPath>\n",
       "    </text>\n",
       "    <path class=\"displacy-arrowhead\" d=\"M2520,441.5 L2512,429.5 2528,429.5\" fill=\"currentColor\"/>\n",
       "</g>\n",
       "\n",
       "<g class=\"displacy-arrow\">\n",
       "    <path class=\"displacy-arc\" id=\"arrow-9df889caa64946fdbab89666880dc940-0-14\" stroke-width=\"2px\" d=\"M245,439.5 C245,2.0 2675.0,2.0 2675.0,439.5\" fill=\"none\" stroke=\"currentColor\"/>\n",
       "    <text dy=\"1.25em\" style=\"font-size: 0.8em; letter-spacing: 1px\">\n",
       "        <textPath xlink:href=\"#arrow-9df889caa64946fdbab89666880dc940-0-14\" class=\"displacy-label\" startOffset=\"50%\" side=\"left\" fill=\"currentColor\" text-anchor=\"middle\">acl</textPath>\n",
       "    </text>\n",
       "    <path class=\"displacy-arrowhead\" d=\"M2675.0,441.5 L2683.0,429.5 2667.0,429.5\" fill=\"currentColor\"/>\n",
       "</g>\n",
       "\n",
       "<g class=\"displacy-arrow\">\n",
       "    <path class=\"displacy-arc\" id=\"arrow-9df889caa64946fdbab89666880dc940-0-15\" stroke-width=\"2px\" d=\"M2870,439.5 C2870,352.0 3005.0,352.0 3005.0,439.5\" fill=\"none\" stroke=\"currentColor\"/>\n",
       "    <text dy=\"1.25em\" style=\"font-size: 0.8em; letter-spacing: 1px\">\n",
       "        <textPath xlink:href=\"#arrow-9df889caa64946fdbab89666880dc940-0-15\" class=\"displacy-label\" startOffset=\"50%\" side=\"left\" fill=\"currentColor\" text-anchor=\"middle\">case</textPath>\n",
       "    </text>\n",
       "    <path class=\"displacy-arrowhead\" d=\"M2870,441.5 L2862,429.5 2878,429.5\" fill=\"currentColor\"/>\n",
       "</g>\n",
       "\n",
       "<g class=\"displacy-arrow\">\n",
       "    <path class=\"displacy-arc\" id=\"arrow-9df889caa64946fdbab89666880dc940-0-16\" stroke-width=\"2px\" d=\"M2695,439.5 C2695,264.5 3010.0,264.5 3010.0,439.5\" fill=\"none\" stroke=\"currentColor\"/>\n",
       "    <text dy=\"1.25em\" style=\"font-size: 0.8em; letter-spacing: 1px\">\n",
       "        <textPath xlink:href=\"#arrow-9df889caa64946fdbab89666880dc940-0-16\" class=\"displacy-label\" startOffset=\"50%\" side=\"left\" fill=\"currentColor\" text-anchor=\"middle\">obl</textPath>\n",
       "    </text>\n",
       "    <path class=\"displacy-arrowhead\" d=\"M3010.0,441.5 L3018.0,429.5 3002.0,429.5\" fill=\"currentColor\"/>\n",
       "</g>\n",
       "\n",
       "<g class=\"displacy-arrow\">\n",
       "    <path class=\"displacy-arc\" id=\"arrow-9df889caa64946fdbab89666880dc940-0-17\" stroke-width=\"2px\" d=\"M3045,439.5 C3045,352.0 3180.0,352.0 3180.0,439.5\" fill=\"none\" stroke=\"currentColor\"/>\n",
       "    <text dy=\"1.25em\" style=\"font-size: 0.8em; letter-spacing: 1px\">\n",
       "        <textPath xlink:href=\"#arrow-9df889caa64946fdbab89666880dc940-0-17\" class=\"displacy-label\" startOffset=\"50%\" side=\"left\" fill=\"currentColor\" text-anchor=\"middle\">nmod</textPath>\n",
       "    </text>\n",
       "    <path class=\"displacy-arrowhead\" d=\"M3180.0,441.5 L3188.0,429.5 3172.0,429.5\" fill=\"currentColor\"/>\n",
       "</g>\n",
       "\n",
       "<g class=\"displacy-arrow\">\n",
       "    <path class=\"displacy-arc\" id=\"arrow-9df889caa64946fdbab89666880dc940-0-18\" stroke-width=\"2px\" d=\"M3395,439.5 C3395,264.5 3710.0,264.5 3710.0,439.5\" fill=\"none\" stroke=\"currentColor\"/>\n",
       "    <text dy=\"1.25em\" style=\"font-size: 0.8em; letter-spacing: 1px\">\n",
       "        <textPath xlink:href=\"#arrow-9df889caa64946fdbab89666880dc940-0-18\" class=\"displacy-label\" startOffset=\"50%\" side=\"left\" fill=\"currentColor\" text-anchor=\"middle\">case</textPath>\n",
       "    </text>\n",
       "    <path class=\"displacy-arrowhead\" d=\"M3395,441.5 L3387,429.5 3403,429.5\" fill=\"currentColor\"/>\n",
       "</g>\n",
       "\n",
       "<g class=\"displacy-arrow\">\n",
       "    <path class=\"displacy-arc\" id=\"arrow-9df889caa64946fdbab89666880dc940-0-19\" stroke-width=\"2px\" d=\"M3570,439.5 C3570,352.0 3705.0,352.0 3705.0,439.5\" fill=\"none\" stroke=\"currentColor\"/>\n",
       "    <text dy=\"1.25em\" style=\"font-size: 0.8em; letter-spacing: 1px\">\n",
       "        <textPath xlink:href=\"#arrow-9df889caa64946fdbab89666880dc940-0-19\" class=\"displacy-label\" startOffset=\"50%\" side=\"left\" fill=\"currentColor\" text-anchor=\"middle\">det</textPath>\n",
       "    </text>\n",
       "    <path class=\"displacy-arrowhead\" d=\"M3570,441.5 L3562,429.5 3578,429.5\" fill=\"currentColor\"/>\n",
       "</g>\n",
       "\n",
       "<g class=\"displacy-arrow\">\n",
       "    <path class=\"displacy-arc\" id=\"arrow-9df889caa64946fdbab89666880dc940-0-20\" stroke-width=\"2px\" d=\"M2695,439.5 C2695,177.0 3715.0,177.0 3715.0,439.5\" fill=\"none\" stroke=\"currentColor\"/>\n",
       "    <text dy=\"1.25em\" style=\"font-size: 0.8em; letter-spacing: 1px\">\n",
       "        <textPath xlink:href=\"#arrow-9df889caa64946fdbab89666880dc940-0-20\" class=\"displacy-label\" startOffset=\"50%\" side=\"left\" fill=\"currentColor\" text-anchor=\"middle\">obl</textPath>\n",
       "    </text>\n",
       "    <path class=\"displacy-arrowhead\" d=\"M3715.0,441.5 L3723.0,429.5 3707.0,429.5\" fill=\"currentColor\"/>\n",
       "</g>\n",
       "\n",
       "<g class=\"displacy-arrow\">\n",
       "    <path class=\"displacy-arc\" id=\"arrow-9df889caa64946fdbab89666880dc940-0-21\" stroke-width=\"2px\" d=\"M3745,439.5 C3745,352.0 3880.0,352.0 3880.0,439.5\" fill=\"none\" stroke=\"currentColor\"/>\n",
       "    <text dy=\"1.25em\" style=\"font-size: 0.8em; letter-spacing: 1px\">\n",
       "        <textPath xlink:href=\"#arrow-9df889caa64946fdbab89666880dc940-0-21\" class=\"displacy-label\" startOffset=\"50%\" side=\"left\" fill=\"currentColor\" text-anchor=\"middle\">det</textPath>\n",
       "    </text>\n",
       "    <path class=\"displacy-arrowhead\" d=\"M3880.0,441.5 L3888.0,429.5 3872.0,429.5\" fill=\"currentColor\"/>\n",
       "</g>\n",
       "\n",
       "<g class=\"displacy-arrow\">\n",
       "    <path class=\"displacy-arc\" id=\"arrow-9df889caa64946fdbab89666880dc940-0-22\" stroke-width=\"2px\" d=\"M3745,439.5 C3745,264.5 4060.0,264.5 4060.0,439.5\" fill=\"none\" stroke=\"currentColor\"/>\n",
       "    <text dy=\"1.25em\" style=\"font-size: 0.8em; letter-spacing: 1px\">\n",
       "        <textPath xlink:href=\"#arrow-9df889caa64946fdbab89666880dc940-0-22\" class=\"displacy-label\" startOffset=\"50%\" side=\"left\" fill=\"currentColor\" text-anchor=\"middle\">appos</textPath>\n",
       "    </text>\n",
       "    <path class=\"displacy-arrowhead\" d=\"M4060.0,441.5 L4068.0,429.5 4052.0,429.5\" fill=\"currentColor\"/>\n",
       "</g>\n",
       "\n",
       "<g class=\"displacy-arrow\">\n",
       "    <path class=\"displacy-arc\" id=\"arrow-9df889caa64946fdbab89666880dc940-0-23\" stroke-width=\"2px\" d=\"M4095,439.5 C4095,352.0 4230.0,352.0 4230.0,439.5\" fill=\"none\" stroke=\"currentColor\"/>\n",
       "    <text dy=\"1.25em\" style=\"font-size: 0.8em; letter-spacing: 1px\">\n",
       "        <textPath xlink:href=\"#arrow-9df889caa64946fdbab89666880dc940-0-23\" class=\"displacy-label\" startOffset=\"50%\" side=\"left\" fill=\"currentColor\" text-anchor=\"middle\">flat:name</textPath>\n",
       "    </text>\n",
       "    <path class=\"displacy-arrowhead\" d=\"M4230.0,441.5 L4238.0,429.5 4222.0,429.5\" fill=\"currentColor\"/>\n",
       "</g>\n",
       "</svg>\n",
       "</figure>\n",
       "</body>\n",
       "</html></span>"
      ],
      "text/plain": [
       "<IPython.core.display.HTML object>"
      ]
     },
     "metadata": {},
     "output_type": "display_data"
    },
    {
     "name": "stdout",
     "output_type": "stream",
     "text": [
      "\n",
      "Using the 'dep' visualizer\n",
      "Serving on http://localhost:5001 ...\n",
      "\n",
      "Shutting down server on port 5001.\n"
     ]
    }
   ],
   "source": [
    "displacy.serve(sentence_spans[0], style=\"dep\", host=\"localhost\", auto_select_port=True)"
   ]
  },
  {
   "cell_type": "markdown",
   "id": "5d080690-39ec-40bc-ad62-b1ca4be3cfa2",
   "metadata": {},
   "source": [
    "# Topic Modelling\n",
    "Let's now explore the topics included in *1 Clement* and present this as a graph:"
   ]
  },
  {
   "cell_type": "code",
   "execution_count": 13,
   "id": "6b75c73c-a26b-47a1-bcee-a5d519a829a4",
   "metadata": {},
   "outputs": [],
   "source": [
    "# from bertopic import BERTopic"
   ]
  },
  {
   "cell_type": "code",
   "execution_count": 14,
   "id": "441f4dcd-7d56-4fbd-be53-42bfb0167b98",
   "metadata": {},
   "outputs": [
    {
     "data": {
      "text/plain": [
       "'\\nfrom flair.models import SequenceTagger\\ntagger = SequenceTagger.load(\\'SuperPeitho-FLAIR-v2/final-model.pt\\')\\n\\nwith open(\"data/clement-i-greek.txt\", \"r\") as testfile:\\n    test_list = test.readlines()\\n\\noutfile = open(\"morph_analysis_outputs.txt\", \"w\")\\nfor testitem in test_list:\\n    sentence = Sentence(testitem)\\n    tagger.predict(sentence)\\n    outputs = sentence.get_spans(\\'pos\\')\\n    for output in outputs:\\n        outfile.write(output + \"\\n\")\\n    outfile.write(\"\\n\")\\n'"
      ]
     },
     "execution_count": 14,
     "metadata": {},
     "output_type": "execute_result"
    }
   ],
   "source": [
    "'''\n",
    "from flair.models import SequenceTagger\n",
    "tagger = SequenceTagger.load('SuperPeitho-FLAIR-v2/final-model.pt')\n",
    "\n",
    "with open(\"data/clement-i-greek.txt\", \"r\") as testfile:\n",
    "    test_list = test.readlines()\n",
    "\n",
    "outfile = open(\"morph_analysis_outputs.txt\", \"w\")\n",
    "for testitem in test_list:\n",
    "    sentence = Sentence(testitem)\n",
    "    tagger.predict(sentence)\n",
    "    outputs = sentence.get_spans('pos')\n",
    "    for output in outputs:\n",
    "        outfile.write(output + \"\\n\")\n",
    "    outfile.write(\"\\n\")\n",
    "'''"
   ]
  },
  {
   "cell_type": "code",
   "execution_count": null,
   "id": "13904b2c-c2b5-4202-838d-bcb91235de17",
   "metadata": {},
   "outputs": [],
   "source": []
  }
 ],
 "metadata": {
  "kernelspec": {
   "display_name": "Python 3 (ipykernel)",
   "language": "python",
   "name": "python3"
  },
  "language_info": {
   "codemirror_mode": {
    "name": "ipython",
    "version": 3
   },
   "file_extension": ".py",
   "mimetype": "text/x-python",
   "name": "python",
   "nbconvert_exporter": "python",
   "pygments_lexer": "ipython3",
   "version": "3.9.6"
  }
 },
 "nbformat": 4,
 "nbformat_minor": 5
}
