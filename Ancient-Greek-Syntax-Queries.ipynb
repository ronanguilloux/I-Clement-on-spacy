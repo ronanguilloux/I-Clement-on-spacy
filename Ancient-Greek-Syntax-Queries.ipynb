{
 "cells": [
  {
   "cell_type": "markdown",
   "id": "6af87bb7-5611-405a-a180-239d82d5422f",
   "metadata": {},
   "source": [
    "# Testing tools for exploring vocabulary stats on NT using `vocabulary-tools`"
   ]
  },
  {
   "cell_type": "markdown",
   "id": "4aac1e9c-9076-44ee-bfb5-d18f1abdd9c2",
   "metadata": {},
   "source": [
    "Just a playground for Ancient Greek Syntax Stats on the Greek New Testament (GNT) using https://github.com/jtauber/vocabulary-tools/"
   ]
  },
  {
   "cell_type": "markdown",
   "id": "88e1d17a-e708-48fd-87c1-3fb05106fb12",
   "metadata": {},
   "source": [
    "Uses `gnt_data` folder and `cacl.py` from this same folder. "
   ]
  },
  {
   "cell_type": "code",
   "execution_count": 26,
   "id": "5aef8c06-f4ea-4e61-968e-ad82621afc81",
   "metadata": {},
   "outputs": [],
   "source": [
    "from collections import Counter\n",
    "import math\n",
    "from gnt_data import get_tokens, get_tokens_by_chunk, TokenType, ChunkType\n",
    "from calc import tokens_for_coverage, print_coverage_table"
   ]
  },
  {
   "cell_type": "markdown",
   "id": "af46b138-d7a9-4354-88d1-a142c1e5a5e4",
   "metadata": {},
   "source": [
    "## 10 most common lemmas in GNT"
   ]
  },
  {
   "cell_type": "code",
   "execution_count": 27,
   "id": "6156b1a8-22b1-4672-aa78-0a73bae71035",
   "metadata": {},
   "outputs": [
    {
     "data": {
      "text/plain": [
       "[('ὁ', 19769),\n",
       " ('καί', 8973),\n",
       " ('αὐτός', 5546),\n",
       " ('σύ', 2894),\n",
       " ('δέ', 2766),\n",
       " ('ἐν', 2733),\n",
       " ('ἐγώ', 2572),\n",
       " ('εἰμί', 2456),\n",
       " ('λέγω', 2345),\n",
       " ('εἰς', 1754)]"
      ]
     },
     "execution_count": 27,
     "metadata": {},
     "output_type": "execute_result"
    }
   ],
   "source": [
    "gnt_lemmas = Counter(get_tokens(TokenType.lemma))\n",
    "gnt_lemmas.most_common(10)"
   ]
  },
  {
   "cell_type": "markdown",
   "id": "afbefb78-7fd5-49f3-9c54-a68e41945778",
   "metadata": {},
   "source": [
    "## Core 50% GNT Vocabulary"
   ]
  },
  {
   "cell_type": "code",
   "execution_count": 28,
   "id": "ab907bc3-cebc-4966-ae38-0328372fc181",
   "metadata": {},
   "outputs": [
    {
     "data": {
      "text/plain": [
       "Counter({'ὁ': 19769,\n",
       "         'καί': 8973,\n",
       "         'αὐτός': 5546,\n",
       "         'σύ': 2894,\n",
       "         'δέ': 2766,\n",
       "         'ἐν': 2733,\n",
       "         'ἐγώ': 2572,\n",
       "         'εἰμί': 2456,\n",
       "         'λέγω': 2345,\n",
       "         'εἰς': 1754,\n",
       "         'οὐ': 1605,\n",
       "         'ὅς': 1408,\n",
       "         'οὗτος': 1385,\n",
       "         'θεός': 1307,\n",
       "         'ὅτι': 1294,\n",
       "         'πᾶς': 1244,\n",
       "         'γάρ': 1039,\n",
       "         'μή': 1036,\n",
       "         'ἐκ': 913,\n",
       "         'Ἰησοῦς': 906,\n",
       "         'ἐπί': 885,\n",
       "         'κύριος': 713,\n",
       "         'ἔχω': 706,\n",
       "         'πρός': 696,\n",
       "         'γίνομαι': 667,\n",
       "         'διά': 666,\n",
       "         'ἵνα': 662})"
      ]
     },
     "execution_count": 28,
     "metadata": {},
     "output_type": "execute_result"
    }
   ],
   "source": [
    "tokens_for_coverage(gnt_lemmas, 0.5)"
   ]
  },
  {
   "cell_type": "markdown",
   "id": "1cc017d3-957d-465e-b6cf-dbc3b95ea4c5",
   "metadata": {},
   "source": [
    "## Core 70% Vocabulary for the Wedding at Cana pericope"
   ]
  },
  {
   "cell_type": "code",
   "execution_count": 29,
   "id": "6d1ea233-f611-4e1a-84f5-dce71df76853",
   "metadata": {},
   "outputs": [
    {
     "data": {
      "text/plain": [
       "Counter({'ὁ': 35,\n",
       "         'καί': 15,\n",
       "         'αὐτός': 11,\n",
       "         'λέγω': 7,\n",
       "         'Ἰησοῦς': 6,\n",
       "         'δέ': 5,\n",
       "         'οἶνος': 5,\n",
       "         'εἰμί': 3,\n",
       "         'μήτηρ': 3,\n",
       "         'σύ': 3,\n",
       "         'ὕδωρ': 3,\n",
       "         'ἀρχιτρίκλινος': 3,\n",
       "         'γάμος': 2,\n",
       "         'γίνομαι': 2,\n",
       "         'ἐν': 2,\n",
       "         'Κανά': 2,\n",
       "         'Γαλιλαία': 2,\n",
       "         'ἐκεῖ': 2,\n",
       "         'μαθητής': 2,\n",
       "         'εἰς': 2,\n",
       "         'οὐ': 2,\n",
       "         'ἐγώ': 2,\n",
       "         'διάκονος': 2,\n",
       "         'ποιέω': 2,\n",
       "         'ὑδρία': 2,\n",
       "         'γεμίζω': 2,\n",
       "         'ἕως': 2,\n",
       "         'ἀντλέω': 2,\n",
       "         'φέρω': 2,\n",
       "         'οἶδα': 2,\n",
       "         'καλός': 2})"
      ]
     },
     "execution_count": 29,
     "metadata": {},
     "output_type": "execute_result"
    }
   ],
   "source": [
    "cana_lemmas = Counter(get_tokens(TokenType.lemma, ChunkType.pericope, \"04§05\"))\n",
    "tokens_for_coverage(cana_lemmas, 0.7)"
   ]
  },
  {
   "cell_type": "markdown",
   "id": "83ad3c3e-0e97-48c0-b45c-819d30ee0444",
   "metadata": {},
   "source": [
    "## Words in the Wedding at Cana pericope not in the 80% Vocabulary for John's Gospel"
   ]
  },
  {
   "cell_type": "code",
   "execution_count": 30,
   "id": "da4b3434-a243-4122-b06d-c5cfe7bd8953",
   "metadata": {},
   "outputs": [
    {
     "data": {
      "text/plain": [
       "['Κανά',\n",
       " 'γάμος',\n",
       " 'γεμίζω',\n",
       " 'γεύομαι',\n",
       " 'διάκονος',\n",
       " 'δύο',\n",
       " 'καθαρισμός',\n",
       " 'καλέω',\n",
       " 'καλός',\n",
       " 'κατά',\n",
       " 'κεῖμαι',\n",
       " 'λίθινος',\n",
       " 'μήτηρ',\n",
       " 'μεθύω',\n",
       " 'μετρητής',\n",
       " 'νυμφίος',\n",
       " 'οἶνος',\n",
       " 'οὔπω',\n",
       " 'πρῶτος',\n",
       " 'πόθεν',\n",
       " 'τρίτος',\n",
       " 'τρεῖς',\n",
       " 'φανερόω',\n",
       " 'φωνέω',\n",
       " 'χωρέω',\n",
       " 'ἀνά',\n",
       " 'ἀντλέω',\n",
       " 'ἀρχή',\n",
       " 'ἀρχιτρίκλινος',\n",
       " 'ἄνω',\n",
       " 'ἄρτι',\n",
       " 'ἐλάσσων',\n",
       " 'ἕξ',\n",
       " 'ἕως',\n",
       " 'ἤ',\n",
       " 'ἥκω',\n",
       " 'ὑδρία',\n",
       " 'ὑστερέω']"
      ]
     },
     "execution_count": 30,
     "metadata": {},
     "output_type": "execute_result"
    }
   ],
   "source": [
    "john_lemmas = Counter(get_tokens(TokenType.lemma, ChunkType.book, \"64\"))\n",
    "john80 = tokens_for_coverage(john_lemmas, 0.8)\n",
    "sorted(cana_lemmas.keys() - john80.keys())\n"
   ]
  },
  {
   "cell_type": "markdown",
   "id": "c43ef2c2-4815-4aff-af5e-81862829793f",
   "metadata": {},
   "source": [
    "## What is left from the Core 80% GNT Vocabulary if you've read the Johannine Epistles and Gospel?"
   ]
  },
  {
   "cell_type": "code",
   "execution_count": 31,
   "id": "fb530693-3b34-4630-830c-329665538085",
   "metadata": {},
   "outputs": [
    {
     "data": {
      "text/plain": [
       "['Παῦλος',\n",
       " 'γραμματεύς',\n",
       " 'διό',\n",
       " 'δύναμις',\n",
       " 'εἴτε',\n",
       " 'εὐαγγέλιον',\n",
       " 'εὐαγγελίζω',\n",
       " 'θρόνος',\n",
       " 'κηρύσσω',\n",
       " 'λοιπός',\n",
       " 'παραβολή',\n",
       " 'παρακαλέω',\n",
       " 'προσεύχομαι',\n",
       " 'πρόσωπον',\n",
       " 'σοφία',\n",
       " 'ἀποδίδωμι',\n",
       " 'ἄρα',\n",
       " 'ἑπτά',\n",
       " 'Ἰερουσαλήμ',\n",
       " 'ὑπάρχω']"
      ]
     },
     "execution_count": 31,
     "metadata": {},
     "output_type": "execute_result"
    }
   ],
   "source": [
    "johannine_lemmas = Counter(get_tokens(TokenType.lemma, ChunkType.book, \"64\")) + Counter(get_tokens(TokenType.lemma, ChunkType.book, \"83\")) + Counter(get_tokens(TokenType.lemma, ChunkType.book, \"84\")) + Counter(get_tokens(TokenType.lemma, ChunkType.book, \"85\"))\n",
    "gnt80 = tokens_for_coverage(gnt_lemmas, 0.8)\n",
    "sorted(gnt80.keys() - johannine_lemmas.keys())"
   ]
  },
  {
   "cell_type": "markdown",
   "id": "71ed7c05-5cbe-4a51-a7ad-1753a15f099c",
   "metadata": {},
   "source": [
    "## How many words appear at least 10 times in the Johannine Epistles and Gospel?\n"
   ]
  },
  {
   "cell_type": "code",
   "execution_count": 32,
   "id": "6001ff1b-41a2-4914-b377-f97f28ca8300",
   "metadata": {},
   "outputs": [
    {
     "data": {
      "text/plain": [
       "231"
      ]
     },
     "execution_count": 32,
     "metadata": {},
     "output_type": "execute_result"
    }
   ],
   "source": [
    "johannine_at_least_10 = Counter({token:count for token, count in johannine_lemmas.items() if count >= 10})\n",
    "len(johannine_at_least_10)"
   ]
  },
  {
   "cell_type": "markdown",
   "id": "133bf28e-9e54-43c4-80ef-b892fe71672c",
   "metadata": {},
   "source": [
    "## How much of those texts is that?"
   ]
  },
  {
   "cell_type": "code",
   "execution_count": 33,
   "id": "2c7a6385-fdb2-47bb-8470-2bdccc454812",
   "metadata": {},
   "outputs": [
    {
     "data": {
      "text/plain": [
       "16004"
      ]
     },
     "execution_count": 33,
     "metadata": {},
     "output_type": "execute_result"
    }
   ],
   "source": [
    "sum(johannine_at_least_10.values())"
   ]
  },
  {
   "cell_type": "code",
   "execution_count": 34,
   "id": "0186d706-0b6d-4c84-b46f-8daa8bfb53e0",
   "metadata": {},
   "outputs": [
    {
     "data": {
      "text/plain": [
       "18039"
      ]
     },
     "execution_count": 34,
     "metadata": {},
     "output_type": "execute_result"
    }
   ],
   "source": [
    "sum(johannine_lemmas.values())"
   ]
  },
  {
   "cell_type": "code",
   "execution_count": 35,
   "id": "9fd2de87-a38f-4860-a9ed-a9a22179e078",
   "metadata": {},
   "outputs": [
    {
     "data": {
      "text/plain": [
       "0.887"
      ]
     },
     "execution_count": 35,
     "metadata": {},
     "output_type": "execute_result"
    }
   ],
   "source": [
    "round(sum(johannine_at_least_10.values()) / sum(johannine_lemmas.values()), 3)"
   ]
  },
  {
   "cell_type": "markdown",
   "id": "925d2743-97c3-4e71-beed-8d338f815454",
   "metadata": {},
   "source": [
    "(i.e. 88.7% by token)"
   ]
  },
  {
   "cell_type": "markdown",
   "id": "91fb9833-a027-48db-aaaf-ef5b707737a4",
   "metadata": {},
   "source": [
    "## By token, what coverage will the top 10 lemmas in the entire GNT give me?"
   ]
  },
  {
   "cell_type": "code",
   "execution_count": 36,
   "id": "e218aeec-bc75-47b0-8bad-a13fac1eee79",
   "metadata": {},
   "outputs": [
    {
     "data": {
      "text/plain": [
       "0.377"
      ]
     },
     "execution_count": 36,
     "metadata": {},
     "output_type": "execute_result"
    }
   ],
   "source": [
    "round(sum(count for token, count in gnt_lemmas.most_common(10)) / sum(gnt_lemmas.values()), 3)"
   ]
  },
  {
   "cell_type": "markdown",
   "id": "16e6985b-4694-4153-ad2c-6db11e3cecff",
   "metadata": {},
   "source": [
    "(i.e. 37.7%)"
   ]
  },
  {
   "cell_type": "markdown",
   "id": "a16a9c3a-8774-41c1-841c-998980565a49",
   "metadata": {},
   "source": [
    "## And the top 100 lemmas?"
   ]
  },
  {
   "cell_type": "code",
   "execution_count": 37,
   "id": "1f9b4bfb-fdda-4ff7-a24b-842b621aa80b",
   "metadata": {},
   "outputs": [
    {
     "data": {
      "text/plain": [
       "0.662"
      ]
     },
     "execution_count": 37,
     "metadata": {},
     "output_type": "execute_result"
    }
   ],
   "source": [
    "round(sum(count for token, count in gnt_lemmas.most_common(100)) / sum(gnt_lemmas.values()), 3)"
   ]
  },
  {
   "cell_type": "markdown",
   "id": "de401504-603a-4f79-bcce-75fba1df0de7",
   "metadata": {},
   "source": [
    "(i.e. 66.2%)"
   ]
  },
  {
   "cell_type": "markdown",
   "id": "de387738-f3e5-4fbc-b519-40c98c5f7873",
   "metadata": {},
   "source": [
    "## Let's improve this by looking at actual verse coverage"
   ]
  },
  {
   "cell_type": "markdown",
   "id": "5649e0fd-f0e5-4271-af5a-2a3860930e78",
   "metadata": {},
   "source": [
    "build a mapping of lemmas to their frequency rank"
   ]
  },
  {
   "cell_type": "code",
   "execution_count": 38,
   "id": "974d0e62-1028-47c4-86d0-4cd032dab051",
   "metadata": {},
   "outputs": [
    {
     "data": {
      "text/plain": [
       "55"
      ]
     },
     "execution_count": 38,
     "metadata": {},
     "output_type": "execute_result"
    }
   ],
   "source": [
    "ranked_lemmas = {x[0]: i for i, x in enumerate(gnt_lemmas.most_common(), 1)}\n",
    "ranked_lemmas[\"λόγος\"]"
   ]
  },
  {
   "cell_type": "markdown",
   "id": "4b180567-7c70-477c-8ab3-f29551ad4acc",
   "metadata": {},
   "source": [
    "λόγος is the 55th most frequent lemma in the GNT"
   ]
  },
  {
   "cell_type": "markdown",
   "id": "2d3d35e5-0b76-429d-a69f-1fdbf1ac9c58",
   "metadata": {},
   "source": [
    "Then for each verse, we generate a sorted list of frequency ranks for the lemmas:"
   ]
  },
  {
   "cell_type": "code",
   "execution_count": 39,
   "id": "bc31ee1f-3fff-421d-b58b-7bc1705f4f3a",
   "metadata": {},
   "outputs": [
    {
     "data": {
      "text/plain": [
       "[1,\n",
       " 1,\n",
       " 1,\n",
       " 1,\n",
       " 1,\n",
       " 3,\n",
       " 10,\n",
       " 14,\n",
       " 16,\n",
       " 17,\n",
       " 18,\n",
       " 23,\n",
       " 27,\n",
       " 29,\n",
       " 44,\n",
       " 48,\n",
       " 64,\n",
       " 78,\n",
       " 85,\n",
       " 119,\n",
       " 128,\n",
       " 191,\n",
       " 204,\n",
       " 239,\n",
       " 1189]"
      ]
     },
     "execution_count": 39,
     "metadata": {},
     "output_type": "execute_result"
    }
   ],
   "source": [
    "rank_list_per_verse = {\n",
    "    verse: sorted([ranked_lemmas[lemma] for lemma in lemmas])\n",
    "    for verse, lemmas in get_tokens_by_chunk(TokenType.lemma, ChunkType.verse).items()\n",
    "}\n",
    "rank_list_per_verse[\"640316\"]\n"
   ]
  },
  {
   "cell_type": "markdown",
   "id": "b2025341-7d0c-4162-a730-07b6bfb18331",
   "metadata": {},
   "source": [
    "In other words, John 3.16 contains the most frequent lemma (5 times), the 3rd\n",
    "most frequent lemma, the 10th most frequent lemma, and so on"
   ]
  },
  {
   "cell_type": "markdown",
   "id": "afc910e3-96c4-4d49-bba5-77fb1df411b0",
   "metadata": {},
   "source": [
    "Now let's say we wanted to have 80% coverage of lemmas in each verse. We build\n",
    "this new dictionary for each verse"
   ]
  },
  {
   "cell_type": "code",
   "execution_count": 40,
   "id": "25ce80d0-67cb-4847-a4b1-b27c9aea09aa",
   "metadata": {},
   "outputs": [
    {
     "data": {
      "text/plain": [
       "119"
      ]
     },
     "execution_count": 40,
     "metadata": {},
     "output_type": "execute_result"
    }
   ],
   "source": [
    "coverage = 0.8\n",
    "lowest_rank_needed = {\n",
    "    target:rank_list[math.ceil(coverage * len(rank_list)) - 1]\n",
    "    for target, rank_list in rank_list_per_verse.items()\n",
    "}\n",
    "lowest_rank_needed[\"640316\"]"
   ]
  },
  {
   "cell_type": "markdown",
   "id": "bd001e71-e7b0-436c-845e-62e4e42a4ea7",
   "metadata": {},
   "source": [
    "This tells us that to reach 80% coverage of John 3.16, assuming we learn lemmas\n",
    "in frequency order, we need to learn up to rank 119.\n",
    "\n",
    "So if we want to know what proportion of verses would be readable at an 80%\n",
    "coverage level with the 100 most frequent lemmas, we need to count how many\n",
    "verses have a `lowest_rank_needed` of less-than-or-equal to 100."
   ]
  },
  {
   "cell_type": "code",
   "execution_count": 41,
   "id": "465ef70a-e218-47ab-b868-ad39dcc68a57",
   "metadata": {},
   "outputs": [
    {
     "data": {
      "text/plain": [
       "1049"
      ]
     },
     "execution_count": 41,
     "metadata": {},
     "output_type": "execute_result"
    }
   ],
   "source": [
    "len([freq for freq in lowest_rank_needed.values() if freq <= 100])\n"
   ]
  },
  {
   "cell_type": "markdown",
   "id": "3fd893fb-03d6-466d-98c3-b9b99078e600",
   "metadata": {},
   "source": [
    "which as a proportion is 13.2%:"
   ]
  },
  {
   "cell_type": "code",
   "execution_count": 42,
   "id": "90fd303b-a30a-4a0a-a31b-b7ae2234bb78",
   "metadata": {},
   "outputs": [
    {
     "data": {
      "text/plain": [
       "0.132"
      ]
     },
     "execution_count": 42,
     "metadata": {},
     "output_type": "execute_result"
    }
   ],
   "source": [
    "round(len([freq for freq in lowest_rank_needed.values() if freq <= 100]) / len(rank_list_per_verse), 3)\n",
    "0.132"
   ]
  },
  {
   "cell_type": "markdown",
   "id": "033d4f8c-9285-486b-9f0c-5348e116443d",
   "metadata": {},
   "source": [
    "## Print a nice coverage table"
   ]
  },
  {
   "cell_type": "code",
   "execution_count": 43,
   "id": "c4b72204-24f0-4f77-9fb2-74b619e7bc14",
   "metadata": {},
   "outputs": [
    {
     "name": "stdout",
     "output_type": "stream",
     "text": [
      "           50.00%    80.00%    90.00%    95.00%    98.00%   100.00%\n",
      "-------------------------------------------------------------------\n",
      "    100    91.07%    13.23%     2.14%     0.66%     0.49%     0.49%\n",
      "    200    96.85%    35.12%     9.87%     3.47%     2.56%     2.56%\n",
      "    500    99.13%    70.88%    36.75%    17.86%    13.85%    13.84%\n",
      "   1000    99.72%    88.39%    62.68%    37.30%    30.04%    30.01%\n",
      "   2000    99.91%    96.61%    84.98%    65.86%    57.01%    56.97%\n",
      "   5000   100.00%    99.82%    99.03%    96.86%    96.09%    96.06%\n",
      "    ALL   100.00%   100.00%   100.00%   100.00%   100.00%   100.00%\n"
     ]
    }
   ],
   "source": [
    "print_coverage_table(\n",
    "    gnt_lemmas,\n",
    "    get_tokens_by_chunk(TokenType.lemma, ChunkType.verse),\n",
    "    [0.50, 0.80, 0.90, 0.95, 0.98, 1.00],\n",
    "    [100, 200, 500, 1000, 2000, 5000]\n",
    ")"
   ]
  },
  {
   "cell_type": "markdown",
   "id": "31169e8d-cf76-4a0e-b15e-890cb9b46fd9",
   "metadata": {},
   "source": [
    "## What about targets other than verses?"
   ]
  },
  {
   "cell_type": "markdown",
   "id": "0dcd8811-d1d4-446e-933e-0945a5ac0507",
   "metadata": {},
   "source": [
    "One of the things we can now do for the first time is apply this analysis to\n",
    "other chunking systems such as sentences, paragraphs, or pericopes.\n",
    "\n",
    "Here is a table for sentences:"
   ]
  },
  {
   "cell_type": "code",
   "execution_count": 44,
   "id": "f1d365be-423f-4088-8472-dec1e01af29b",
   "metadata": {},
   "outputs": [
    {
     "name": "stdout",
     "output_type": "stream",
     "text": [
      "           50.00%    80.00%    90.00%    95.00%    98.00%   100.00%\n",
      "-------------------------------------------------------------------\n",
      "    100    91.13%    15.56%     3.68%     2.08%     1.99%     1.99%\n",
      "    200    96.65%    37.94%    12.25%     6.32%     5.72%     5.72%\n",
      "    500    99.10%    72.73%    39.60%    23.42%    20.05%    20.04%\n",
      "   1000    99.77%    89.38%    64.20%    43.72%    37.73%    37.60%\n",
      "   2000    99.95%    96.95%    85.96%    71.07%    62.58%    62.17%\n",
      "   5000   100.00%    99.82%    99.12%    97.79%    96.63%    96.53%\n",
      "    ALL   100.00%   100.00%   100.00%   100.00%   100.00%   100.00%\n"
     ]
    }
   ],
   "source": [
    "print_coverage_table(\n",
    "    gnt_lemmas,\n",
    "    get_tokens_by_chunk(TokenType.lemma, ChunkType.sentence),\n",
    "    [0.50, 0.80, 0.90, 0.95, 0.98, 1.00],\n",
    "    [100, 200, 500, 1000, 2000, 5000]\n",
    ")"
   ]
  },
  {
   "cell_type": "markdown",
   "id": "c52ec37a-9746-43e9-8f44-b1bead7f9688",
   "metadata": {},
   "source": [
    "Or pericopes:"
   ]
  },
  {
   "cell_type": "code",
   "execution_count": 45,
   "id": "843d4dd5-e9ce-451c-b74d-eabfa539aa0e",
   "metadata": {},
   "outputs": [
    {
     "name": "stdout",
     "output_type": "stream",
     "text": [
      "           50.00%    80.00%    90.00%    95.00%    98.00%   100.00%\n",
      "-------------------------------------------------------------------\n",
      "    100    98.13%     1.53%     0.00%     0.00%     0.00%     0.00%\n",
      "    200    99.66%    18.68%     0.68%     0.00%     0.00%     0.00%\n",
      "    500   100.00%    78.78%    17.66%     5.26%     0.34%     0.00%\n",
      "   1000   100.00%    94.74%    64.86%    18.51%     5.09%     1.19%\n",
      "   2000   100.00%    99.15%    92.02%    67.23%    25.81%     5.43%\n",
      "   5000   100.00%   100.00%   100.00%    97.96%    91.17%    85.91%\n",
      "    ALL   100.00%   100.00%   100.00%   100.00%   100.00%   100.00%\n"
     ]
    }
   ],
   "source": [
    "print_coverage_table(\n",
    "    gnt_lemmas,\n",
    "    get_tokens_by_chunk(TokenType.lemma, ChunkType.pericope),\n",
    "    [0.50, 0.80, 0.90, 0.95, 0.98, 1.00],\n",
    "    [100, 200, 500, 1000, 2000, 5000]\n",
    ")"
   ]
  },
  {
   "cell_type": "markdown",
   "id": "1f428360-1521-4776-bdf8-8c14f8870ce1",
   "metadata": {},
   "source": [
    "Obviously frequency order is not the most efficient way to get enough\n",
    "vocabulary to read an entire pericope."
   ]
  },
  {
   "cell_type": "code",
   "execution_count": 46,
   "id": "d541bf1e-74d2-44d0-a5e9-d62eb137c908",
   "metadata": {},
   "outputs": [],
   "source": [
    "## What about those easier to read sentences?"
   ]
  },
  {
   "cell_type": "markdown",
   "id": "6260d193-fcc6-4501-ba9b-ddc25172c475",
   "metadata": {},
   "source": [
    "Above we saw that 1.99% of sentences are completely readable with the 100\n",
    "most frequent lemmas. But what sentences are they?\n",
    "\n",
    "It's fairly straightforward to work out. Recall that the numbers in the cells\n",
    "of the tables were achieved by narrowing down the chunks to just those that had\n",
    "a `lowest_rank_needed` of less than the rank learned and then counting the\n",
    "chunks? Well now we don't want to just count them, we want to list them!"
   ]
  },
  {
   "cell_type": "code",
   "execution_count": 47,
   "id": "ba8cf12d-3453-4d6d-aa80-9eb49af2224c",
   "metadata": {},
   "outputs": [
    {
     "data": {
      "text/plain": [
       "159"
      ]
     },
     "execution_count": 47,
     "metadata": {},
     "output_type": "execute_result"
    }
   ],
   "source": [
    "rank_list_per_sentence = {\n",
    "    sentence: sorted([ranked_lemmas[lemma] for lemma in lemmas])\n",
    "    for sentence, lemmas in get_tokens_by_chunk(TokenType.lemma, ChunkType.sentence).items()\n",
    "}\n",
    "\n",
    "coverage = 1.0\n",
    "lowest_rank_needed = {\n",
    "    sentence:rank_list[math.ceil(coverage * len(rank_list)) - 1]\n",
    "    for sentence, rank_list in rank_list_per_sentence.items()\n",
    "}\n",
    "\n",
    "sentences = [sentence for sentence, freq in lowest_rank_needed.items() if freq <= 100]\n",
    "len(sentences)"
   ]
  },
  {
   "cell_type": "markdown",
   "id": "6ca8ba54-4a08-497a-ac9c-13f02eba8eb7",
   "metadata": {},
   "source": [
    "Remarkably, even just the top 20 most frequent lemmas give us 5 sentences."
   ]
  },
  {
   "cell_type": "code",
   "execution_count": 48,
   "id": "dadbeb4c-b010-4355-a6ac-8259b9813838",
   "metadata": {},
   "outputs": [
    {
     "data": {
      "text/plain": [
       "5"
      ]
     },
     "execution_count": 48,
     "metadata": {},
     "output_type": "execute_result"
    }
   ],
   "source": [
    "sentences = [sentence for sentence, freq in lowest_rank_needed.items() if freq <= 20]\n",
    "len(sentences)\n"
   ]
  },
  {
   "cell_type": "markdown",
   "id": "3dc871a7-293b-4480-827d-edae4e7cc52a",
   "metadata": {},
   "source": [
    "Which are:"
   ]
  },
  {
   "cell_type": "code",
   "execution_count": 49,
   "id": "be84e9f2-d838-4926-b4f2-e26861e65d4b",
   "metadata": {},
   "outputs": [
    {
     "data": {
      "text/plain": [
       "['610995', '640021', '640855', '830054', '830094']"
      ]
     },
     "execution_count": 49,
     "metadata": {},
     "output_type": "execute_result"
    }
   ],
   "source": [
    "sentences"
   ]
  },
  {
   "cell_type": "markdown",
   "id": "7b814342-7b6c-4104-9d28-04301eb3ab7e",
   "metadata": {},
   "source": [
    "Which are:"
   ]
  },
  {
   "cell_type": "code",
   "execution_count": 50,
   "id": "168b33d1-6266-4335-a95e-55b9e32d7d7b",
   "metadata": {},
   "outputs": [
    {
     "name": "stdout",
     "output_type": "stream",
     "text": [
      "λέγει αὐτῷ· Σὺ εἶπας.\n",
      "καὶ λέγει· Οὐκ εἰμί.\n",
      "λέγει αὐτοῖς· Ἐγώ εἰμι.\n",
      "καὶ ἐσμέν.\n",
      "ἡμεῖς ἐκ τοῦ θεοῦ ἐσμεν·\n"
     ]
    }
   ],
   "source": [
    "for sentence in sentences:\n",
    "    print(\" \".join(token for token in get_tokens(TokenType.text, ChunkType.sentence, sentence)))    "
   ]
  },
  {
   "cell_type": "code",
   "execution_count": null,
   "id": "c550c7da-df76-4220-984b-6ef3c3cdd979",
   "metadata": {},
   "outputs": [],
   "source": []
  }
 ],
 "metadata": {
  "kernelspec": {
   "display_name": "Python 3 (ipykernel)",
   "language": "python",
   "name": "python3"
  },
  "language_info": {
   "codemirror_mode": {
    "name": "ipython",
    "version": 3
   },
   "file_extension": ".py",
   "mimetype": "text/x-python",
   "name": "python",
   "nbconvert_exporter": "python",
   "pygments_lexer": "ipython3",
   "version": "3.9.6"
  }
 },
 "nbformat": 4,
 "nbformat_minor": 5
}
