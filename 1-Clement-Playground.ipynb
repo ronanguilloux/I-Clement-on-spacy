{
 "cells": [
  {
   "cell_type": "markdown",
   "id": "6af87bb7-5611-405a-a180-239d82d5422f",
   "metadata": {},
   "source": [
    "# Playground"
   ]
  },
  {
   "cell_type": "markdown",
   "id": "4aac1e9c-9076-44ee-bfb5-d18f1abdd9c2",
   "metadata": {},
   "source": [
    "Please read [1-Clement-introduction](1-Clement-introduction.ipynb) to understand the tools in use.\n",
    "\n",
    "Just a playground for odyCy tests"
   ]
  },
  {
   "cell_type": "code",
   "execution_count": 1,
   "id": "5aef8c06-f4ea-4e61-968e-ad82621afc81",
   "metadata": {},
   "outputs": [],
   "source": [
    "import spacy\n",
    "# Would require: pip install spacy pandas matplotlib\n",
    "import pandas as pd\n",
    "import matplotlib.pyplot as plt\n",
    "from collections import Counter"
   ]
  },
  {
   "cell_type": "code",
   "execution_count": 2,
   "id": "b177cb33-90b5-4731-abb7-33ae62be00b6",
   "metadata": {},
   "outputs": [],
   "source": [
    "clement_source = 'data/clement-i-greek.txt'\n",
    "clement_file = open(clement_source, 'r')\n",
    "clement_text = clement_file.read()"
   ]
  },
  {
   "cell_type": "code",
   "execution_count": 3,
   "id": "f01d8a58-50f2-411b-ac2a-9dfa32b02632",
   "metadata": {},
   "outputs": [],
   "source": [
    "# Load the Ancient Greek model (update this to the actual name of your odyCY model)\n",
    "nlp = spacy.load(\"grc_odycy_joint_trf\")\n",
    "doc = nlp(clement_text)"
   ]
  },
  {
   "cell_type": "code",
   "execution_count": 4,
   "id": "e6531857-efe4-441c-b942-c5d25859d592",
   "metadata": {},
   "outputs": [
    {
     "name": "stdout",
     "output_type": "stream",
     "text": [
      "Number of verbs: 1508\n",
      "\n",
      "Imperatives found:\n",
      "                 Token           Lemma   POS  \\\n",
      "183   ἐταπεινοφρονεῖτε  ἐταπεινοφρονέω  VERB   \n",
      "576              ὁρᾶτε            ὁράω  VERB   \n",
      "1092       Μετανοήσατε        Μετανοήω  VERB   \n",
      "1142          Λούσασθε            Λούω  VERB   \n",
      "1145           γένεσθε        γέγνομαι  VERB   \n",
      "...                ...             ...   ...   \n",
      "8695             ῥῦσαι          ῥύομαι  VERB   \n",
      "8702               δὸς          δίδωμι  VERB   \n",
      "8779               δός             δός  VERB   \n",
      "8819         διεύθυνον       διεύθυνον  VERB   \n",
      "9192        ἀναπέμψατε        ἀναπέμπω  VERB   \n",
      "\n",
      "                                                  Morph  \n",
      "183   (Mood=Imp, Number=Plur, Person=2, Tense=Pres, ...  \n",
      "576   (Mood=Imp, Number=Plur, Person=2, Tense=Pres, ...  \n",
      "1092  (Mood=Imp, Number=Plur, Person=2, Tense=Past, ...  \n",
      "1142  (Mood=Imp, Number=Plur, Person=2, Tense=Past, ...  \n",
      "1145  (Mood=Imp, Number=Plur, Person=2, Tense=Pres, ...  \n",
      "...                                                 ...  \n",
      "8695  (Mood=Imp, Number=Sing, Person=2, Tense=Past, ...  \n",
      "8702  (Mood=Imp, Number=Sing, Person=2, Tense=Past, ...  \n",
      "8779  (Mood=Imp, Number=Sing, Person=2, Tense=Past, ...  \n",
      "8819  (Mood=Imp, Number=Sing, Person=2, Tense=Pres, ...  \n",
      "9192  (Aspect=Perf, Mood=Imp, Number=Plur, Person=2,...  \n",
      "\n",
      "[123 rows x 4 columns]\n",
      "\n",
      "Conjunctions found:\n",
      "Token\n",
      "καὶ       558\n",
      "δὲ         31\n",
      "ἢ          26\n",
      "ἀλλὰ       23\n",
      "οὐδὲ       16\n",
      "μὴ         15\n",
      "μηδὲ        7\n",
      "τε          7\n",
      "καί         5\n",
      "Καὶ         2\n",
      "και         2\n",
      "ἐπειδὴ      2\n",
      "Ἀλλ         1\n",
      "ἡ           1\n",
      "οὐδέ        1\n",
      "Name: count, dtype: int64\n"
     ]
    }
   ],
   "source": [
    "# Extract tokens with POS and Morphological features\n",
    "data = [\n",
    "    (token.text, token.lemma_, token.pos_, token.morph)\n",
    "    for token in doc\n",
    "    if token.is_alpha\n",
    "]\n",
    "\n",
    "df = pd.DataFrame(data, columns=[\"Token\", \"Lemma\", \"POS\", \"Morph\"])\n",
    "\n",
    "# 🔹 Count Verbs\n",
    "verbs = df[df[\"POS\"] == \"VERB\"]\n",
    "print(\"Number of verbs:\", len(verbs))\n",
    "\n",
    "# 🔹 Extract Imperatives\n",
    "imperatives = verbs[verbs[\"Morph\"].apply(lambda m: \"Mood=Imp\" in str(m))]\n",
    "print(\"\\nImperatives found:\")\n",
    "print(imperatives)\n",
    "\n",
    "# 🔹 Count Conjunctions\n",
    "conjs = df[df[\"POS\"] == \"CCONJ\"]\n",
    "print(\"\\nConjunctions found:\")\n",
    "print(conjs[\"Token\"].value_counts())\n",
    "\n",
    "\n"
   ]
  },
  {
   "cell_type": "code",
   "execution_count": 5,
   "id": "3dcfa87f-b7d4-4cf2-8821-d97710dd5d67",
   "metadata": {
    "scrolled": true
   },
   "outputs": [
    {
     "data": {
      "image/png": "[encoded data removed]",
      "text/plain": [
       "<Figure size 800x500 with 1 Axes>"
      ]
     },
     "metadata": {},
     "output_type": "display_data"
    }
   ],
   "source": [
    "# 🔹 Plot verb lemmas frequency\n",
    "verb_counts = verbs[\"Lemma\"].value_counts().head(10)\n",
    "verb_counts.plot(kind=\"barh\", title=\"Top 10 Verbs\", figsize=(8,5), color=\"teal\")\n",
    "plt.xlabel(\"Frequency\")\n",
    "plt.tight_layout()\n",
    "plt.show()"
   ]
  },
  {
   "cell_type": "markdown",
   "id": "31cdd92f-fdd0-459b-a6a0-4ccdb903fab8",
   "metadata": {},
   "source": [
    "# Word Embedding - just for verbs\n",
    "\n",
    "\n"
   ]
  },
  {
   "cell_type": "code",
   "execution_count": 6,
   "id": "37ed29da-4cd2-420e-a51c-9a90ee9eb34f",
   "metadata": {},
   "outputs": [],
   "source": [
    "def displayJson(data_payload):\n",
    "    \"\"\"\n",
    "    Prints the key and the first value for each item in the first result\n",
    "    of a dictionary payload.\n",
    "\n",
    "    Args:\n",
    "        data_payload (dict): The dictionary containing the 'results' key\n",
    "                             with a list of dictionaries.\n",
    "    \"\"\"\n",
    "    # Check if the payload is a dictionary and contains the 'results' key\n",
    "    if not isinstance(data_payload, dict) or 'results' not in data_payload:\n",
    "        print(\"Invalid payload format: Missing dictionary or 'results' key.\")\n",
    "        return\n",
    "\n",
    "    results_list = data_payload['results']\n",
    "\n",
    "    # Check if the 'results' list is not empty\n",
    "    if not results_list:\n",
    "        print(\"The 'results' list in the payload is empty.\")\n",
    "        return\n",
    "\n",
    "    # Access the first item in the 'results' list\n",
    "    first_result_item = results_list[0]\n",
    "\n",
    "    # Check if the first item is a dictionary\n",
    "    if not isinstance(first_result_item, dict):\n",
    "        print(\"The first item in 'results' is not a dictionary.\")\n",
    "        return\n",
    "\n",
    "    print(\"First values from the first result item:\")\n",
    "    # Iterate through the key-value pairs of the first item\n",
    "    for key, value in first_result_item.items():\n",
    "        first_value = None\n",
    "        if isinstance(value, list) and value:\n",
    "            # If the value is a non-empty list, take the first element\n",
    "            first_value = value[0]\n",
    "        elif isinstance(value, dict):\n",
    "             # If the value is a dictionary, you might want to print the whole dict\n",
    "             # or iterate through its items. For this function, let's print the dict.\n",
    "             first_value = value # Or you could iterate: list(value.items())[0] if not empty\n",
    "        else:\n",
    "            # Otherwise, the value itself is the \"first\" value (for simple types like strings, numbers, booleans, null)\n",
    "            first_value = value\n",
    "\n",
    "        print(f\"- {key}: {first_value}\")"
   ]
  },
  {
   "cell_type": "code",
   "execution_count": null,
   "id": "3da3f1fc-e901-4743-88cf-c6964e163268",
   "metadata": {},
   "outputs": [],
   "source": []
  },
  {
   "cell_type": "markdown",
   "id": "15bcd130-2fd5-4b28-95de-3c45aaf03136",
   "metadata": {},
   "source": [
    "# Part 2: Detecting Scripture Quotations & Semantic Parallels\n",
    "We’ll:\n",
    "\n",
    "- Load your 1 Clement passage\n",
    "- Load reference New Testament texts (in Ancient Greek)\n",
    "- Use similarity scoring to identify likely quotations or paraphrases\n",
    "- Using spaCy word embeddings (if the model supports them)\n",
    "- Or fallback to fuzzy matching of token sequences or lemmatized text\n",
    "\n"
   ]
  },
  {
   "cell_type": "code",
   "execution_count": 11,
   "id": "b51c0849-02d8-4947-b11a-0986661c8959",
   "metadata": {},
   "outputs": [],
   "source": [
    "from rapidfuzz import fuzz"
   ]
  },
  {
   "cell_type": "code",
   "execution_count": 12,
   "id": "a2e144e5-d459-44ae-a40b-9709842379cb",
   "metadata": {},
   "outputs": [],
   "source": [
    "# Sample New Testament verses (e.g. from Matthew and Luke)\n",
    "nt_refs = {\n",
    "    \"Matthew 7:24\": \"πᾶς οὖν ὃς ἀκούει μου τοὺς λόγους τούτους καὶ ποιεῖ αὐτούς\",\n",
    "    \"Luke 6:47\": \"πᾶς ὁ ἐρχόμενος πρός με καὶ ἀκούων μου τῶν λόγων καὶ ποιῶν αὐτούς\",\n",
    "    \"John 14:15\": \"ἐὰν ἀγαπᾶτέ με, τὰς ἐντολὰς τὰς ἐμὰς τηρήσατε\",\n",
    "    \"Matthew 26:24\": \"ούαί δέ τψ άνθρώπψ έκείνψ δι’ ού ό υιός τοϋ άνθρώπου παραδίδοται. καλόν ήν αύτφ εΐ ούκ έγεννήθη ό άνθρωπος έκεΐνος.\",\n",
    "    \"Mark 14:21\": \"ούαί δέ τψ άνθρώπψ έκείνψ δι’ ού ό υιός τοϋ άνθρώπου παραδίδοται. καλόν αύτφ εΐ ούκ έγεννήθη ό άνθρωπος έκεΐνος.\",\n",
    "    \"Luke 22:22\": \"πλήν ούαί τψ άνθρώπψ έκείνψ δι ού παραδίδοται.\",\n",
    "    \"Matthew 18:6\": \"δς δ’ αν σκανδαλίση ένα τών μικρών τούτων τών πιστευόντων εις έμέ, συμφέρει αύτώ ϊνα κρεμασθή μύλος όνικός περί τόν τράχηλον αύτοϋ καί καταποντισθή έν τώ πελάγει τής θαλάσσης.\",\n",
    "    \"Mark 9:42\": \"Καί δς αν σκανδαλίση ένα τών μικρών τούτων τών πιστευόντων, καλόν έστιν αύτω μάλλον εί περίκειται μύλος όνικός περί τόν τράχηλον αύτοϋ καί βέβληται εις τήν θάλασσαν.\",\n",
    "    \"Luke 17:1\": \"άνένδεκτόν έστιν τοϋ τά σκάνδαλα μή έλθείν, ούαί δέ δι’ ού έρχεται' λυσιτελεί αύτψ εί λίθος μυλικός περίκειται περί τόν τράχηλον αύτού καί έρριπται εις τήν θάλασσαν, ή ϊνα σκανδαλίση τών μικρών τούτων ενα.\",\n",
    "    \"false postive\": \"Ἡ ἐκκλησία τοῦ θεοῦ ἡ παροικοῦσα ῾Ρώμην τῇ ἐκκλησίᾳ τοῦ θεοῦ τῇ παροικούσῃ Κόρινθον\"\n",
    "}"
   ]
  },
  {
   "cell_type": "code",
   "execution_count": 13,
   "id": "2f61b4db-f211-4439-bee9-a3f519b827b3",
   "metadata": {},
   "outputs": [
    {
     "name": "stdout",
     "output_type": "stream",
     "text": [
      "false postive (100.0):\n",
      "→ Ἡ ἐκκλησία τοῦ θεοῦ ἡ παροικοῦσα ῾Ρώμην τῇ ἐκκλησίᾳ τοῦ θεοῦ τῇ παροικούσῃ Κόρινθον\n",
      "\n",
      "Matthew 7:24 (51.72413793103448):\n",
      "→ πᾶς οὖν ὃς ἀκούει μου τοὺς λόγους τούτους καὶ ποιεῖ αὐτούς\n",
      "\n",
      "John 14:15 (51.11111111111111):\n",
      "→ ἐὰν ἀγαπᾶτέ με, τὰς ἐντολὰς τὰς ἐμὰς τηρήσατε\n",
      "\n",
      "Luke 6:47 (50.76923076923077):\n",
      "→ πᾶς ὁ ἐρχόμενος πρός με καὶ ἀκούων μου τῶν λόγων καὶ ποιῶν αὐτούς\n",
      "\n",
      "Luke 22:22 (43.47826086956522):\n",
      "→ πλήν ούαί τψ άνθρώπψ έκείνψ δι ού παραδίδοται.\n",
      "\n",
      "Mark 9:42 (43.03030303030303):\n",
      "→ Καί δς αν σκανδαλίση ένα τών μικρών τούτων τών πιστευόντων, καλόν έστιν αύτω μάλλον εί περίκειται μύλος όνικός περί τόν τράχηλον αύτοϋ καί βέβληται εις τήν θάλασσαν.\n",
      "\n",
      "Matthew 18:6 (42.285714285714285):\n",
      "→ δς δ’ αν σκανδαλίση ένα τών μικρών τούτων τών πιστευόντων εις έμέ, συμφέρει αύτώ ϊνα κρεμασθή μύλος όνικός περί τόν τράχηλον αύτοϋ καί καταποντισθή έν τώ πελάγει τής θαλάσσης.\n",
      "\n",
      "Mark 14:21 (41.07142857142857):\n",
      "→ ούαί δέ τψ άνθρώπψ έκείνψ δι’ ού ό υιός τοϋ άνθρώπου παραδίδοται. καλόν αύτφ εΐ ούκ έγεννήθη ό άνθρωπος έκεΐνος.\n",
      "\n",
      "Luke 17:1 (40.97560975609756):\n",
      "→ άνένδεκτόν έστιν τοϋ τά σκάνδαλα μή έλθείν, ούαί δέ δι’ ού έρχεται' λυσιτελεί αύτψ εί λίθος μυλικός περίκειται περί τόν τράχηλον αύτού καί έρριπται εις τήν θάλασσαν, ή ϊνα σκανδαλίση τών μικρών τούτων ενα.\n",
      "\n",
      "Matthew 26:24 (40.869565217391305):\n",
      "→ ούαί δέ τψ άνθρώπψ έκείνψ δι’ ού ό υιός τοϋ άνθρώπου παραδίδοται. καλόν ήν αύτφ εΐ ούκ έγεννήθη ό άνθρωπος έκεΐνος.\n",
      "\n"
     ]
    }
   ],
   "source": [
    "# Function to compare similarity\n",
    "def compare_fuzzy(source, targets):\n",
    "    results = []\n",
    "    for ref, text in targets.items():\n",
    "        score = fuzz.partial_ratio(source, text)\n",
    "        results.append((ref, score, text))\n",
    "    return sorted(results, key=lambda x: x[1], reverse=True)\n",
    "\n",
    "# Compare Clement to NT\n",
    "results = compare_fuzzy(clement_text, nt_refs)\n",
    "\n",
    "# Show top matches\n",
    "for ref, score, match in results:\n",
    "    print(f\"{ref} ({score}):\\n→ {match}\\n\")"
   ]
  },
  {
   "cell_type": "code",
   "execution_count": null,
   "id": "d80177d9-d514-42df-8082-907b4fee59d7",
   "metadata": {},
   "outputs": [],
   "source": []
  }
 ],
 "metadata": {
  "kernelspec": {
   "display_name": "Python 3 (ipykernel)",
   "language": "python",
   "name": "python3"
  },
  "language_info": {
   "codemirror_mode": {
    "name": "ipython",
    "version": 3
   },
   "file_extension": ".py",
   "mimetype": "text/x-python",
   "name": "python",
   "nbconvert_exporter": "python",
   "pygments_lexer": "ipython3",
   "version": "3.9.6"
  }
 },
 "nbformat": 4,
 "nbformat_minor": 5
}
